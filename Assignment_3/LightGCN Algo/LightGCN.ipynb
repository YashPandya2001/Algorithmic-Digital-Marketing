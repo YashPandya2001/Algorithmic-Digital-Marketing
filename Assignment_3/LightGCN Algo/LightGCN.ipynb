{
 "cells": [
  {
   "cell_type": "code",
   "execution_count": 2,
   "metadata": {},
   "outputs": [
    {
     "name": "stdout",
     "output_type": "stream",
     "text": [
      "\n",
      "Note: you may need to restart the kernel to use updated packages.\n"
     ]
    }
   ],
   "source": [
    "conda activate reco_base"
   ]
  },
  {
   "cell_type": "code",
   "execution_count": 3,
   "metadata": {},
   "outputs": [
    {
     "name": "stdout",
     "output_type": "stream",
     "text": [
      "D:\\ADM Assignment 3\\recommenders\n"
     ]
    }
   ],
   "source": [
    "cd D:\\ADM Assignment 3\\recommenders"
   ]
  },
  {
   "cell_type": "code",
   "execution_count": 4,
   "metadata": {},
   "outputs": [
    {
     "name": "stdout",
     "output_type": "stream",
     "text": [
      "System version: 3.7.6 (default, Jan  8 2020, 20:23:39) [MSC v.1916 64 bit (AMD64)]\n",
      "Pandas version: 1.0.1\n",
      "Tensorflow version: 1.15.3\n"
     ]
    }
   ],
   "source": [
    "import sys\n",
    "sys.path.append(\"../../\")\n",
    "import os\n",
    "import papermill as pm\n",
    "import pandas as pd\n",
    "import numpy as np\n",
    "import tensorflow as tf\n",
    "from reco_utils.common.timer import Timer\n",
    "from reco_utils.recommender.deeprec.models.graphrec.lightgcn import LightGCN\n",
    "from reco_utils.recommender.deeprec.DataModel.ImplicitCF import ImplicitCF\n",
    "from reco_utils.dataset import movielens\n",
    "from reco_utils.dataset.python_splitters import python_stratified_split\n",
    "from reco_utils.evaluation.python_evaluation import map_at_k, ndcg_at_k, precision_at_k, recall_at_k\n",
    "from reco_utils.common.constants import SEED as DEFAULT_SEED\n",
    "from reco_utils.recommender.deeprec.deeprec_utils import prepare_hparams\n",
    "\n",
    "\n",
    "print(\"System version: {}\".format(sys.version))\n",
    "print(\"Pandas version: {}\".format(pd.__version__))\n",
    "print(\"Tensorflow version: {}\".format(tf.__version__))"
   ]
  },
  {
   "cell_type": "code",
   "execution_count": 16,
   "metadata": {},
   "outputs": [],
   "source": [
    "# top k items to recommend\n",
    "TOP_K = 10\n",
    "\n",
    "# Select Snack data size: 100k, 1m, 10m, or 20m\n",
    "SNACK_DATA_SIZE = '100k'\n",
    "\n",
    "# Model parameters\n",
    "EPOCHS = 50\n",
    "BATCH_SIZE = 1024\n",
    "\n",
    "SEED = DEFAULT_SEED  # Set None for non-deterministic results\n",
    "\n",
    "yaml_file = \"D:/ADM Assignment 3/recommenders/reco_utils/recommender/deeprec/config/lightgcn.yaml\"\n",
    "user_file = \"D:/ADM Assignment 3/recommendersAssignment 3/user.csv\"\n",
    "item_file = \"D:/ADM Assignment 3/recommendersAssignment 3/product.csv\""
   ]
  },
  {
   "cell_type": "code",
   "execution_count": 17,
   "metadata": {},
   "outputs": [
    {
     "name": "stderr",
     "output_type": "stream",
     "text": [
      "100%|████████████████████████████████████████████████████████████████████████████████████████████████████████████████████████████| 4.81k/4.81k [00:03<00:00, 1.27kKB/s]\n"
     ]
    }
   ],
   "source": [
    "df = movielens.load_pandas_df(size=MOVIELENS_DATA_SIZE)"
   ]
  },
  {
   "cell_type": "code",
   "execution_count": 18,
   "metadata": {},
   "outputs": [
    {
     "data": {
      "text/html": [
       "<div>\n",
       "<style scoped>\n",
       "    .dataframe tbody tr th:only-of-type {\n",
       "        vertical-align: middle;\n",
       "    }\n",
       "\n",
       "    .dataframe tbody tr th {\n",
       "        vertical-align: top;\n",
       "    }\n",
       "\n",
       "    .dataframe thead th {\n",
       "        text-align: right;\n",
       "    }\n",
       "</style>\n",
       "<table border=\"1\" class=\"dataframe\">\n",
       "  <thead>\n",
       "    <tr style=\"text-align: right;\">\n",
       "      <th></th>\n",
       "      <th>userID</th>\n",
       "      <th>itemID</th>\n",
       "      <th>rating</th>\n",
       "      <th>timestamp</th>\n",
       "    </tr>\n",
       "  </thead>\n",
       "  <tbody>\n",
       "    <tr>\n",
       "      <th>0</th>\n",
       "      <td>196</td>\n",
       "      <td>242</td>\n",
       "      <td>3.0</td>\n",
       "      <td>881250949</td>\n",
       "    </tr>\n",
       "    <tr>\n",
       "      <th>1</th>\n",
       "      <td>186</td>\n",
       "      <td>302</td>\n",
       "      <td>3.0</td>\n",
       "      <td>891717742</td>\n",
       "    </tr>\n",
       "    <tr>\n",
       "      <th>2</th>\n",
       "      <td>22</td>\n",
       "      <td>377</td>\n",
       "      <td>1.0</td>\n",
       "      <td>878887116</td>\n",
       "    </tr>\n",
       "    <tr>\n",
       "      <th>3</th>\n",
       "      <td>244</td>\n",
       "      <td>51</td>\n",
       "      <td>2.0</td>\n",
       "      <td>880606923</td>\n",
       "    </tr>\n",
       "    <tr>\n",
       "      <th>4</th>\n",
       "      <td>166</td>\n",
       "      <td>346</td>\n",
       "      <td>1.0</td>\n",
       "      <td>886397596</td>\n",
       "    </tr>\n",
       "  </tbody>\n",
       "</table>\n",
       "</div>"
      ],
      "text/plain": [
       "   userID  itemID  rating  timestamp\n",
       "0     196     242     3.0  881250949\n",
       "1     186     302     3.0  891717742\n",
       "2      22     377     1.0  878887116\n",
       "3     244      51     2.0  880606923\n",
       "4     166     346     1.0  886397596"
      ]
     },
     "execution_count": 18,
     "metadata": {},
     "output_type": "execute_result"
    }
   ],
   "source": [
    "df.head()"
   ]
  },
  {
   "cell_type": "code",
   "execution_count": 19,
   "metadata": {},
   "outputs": [],
   "source": [
    "train, test = python_stratified_split(df, ratio=0.75)"
   ]
  },
  {
   "cell_type": "code",
   "execution_count": 20,
   "metadata": {},
   "outputs": [],
   "source": [
    "data = ImplicitCF(train=train, test=test, seed=SEED)"
   ]
  },
  {
   "cell_type": "code",
   "execution_count": 21,
   "metadata": {},
   "outputs": [],
   "source": [
    "hparams = prepare_hparams(yaml_file,\n",
    "                          n_layers=3,\n",
    "                          batch_size=BATCH_SIZE,\n",
    "                          epochs=EPOCHS,\n",
    "                          learning_rate=0.005,\n",
    "                          eval_epoch=5,\n",
    "                          top_k=TOP_K,\n",
    "                         )"
   ]
  },
  {
   "cell_type": "code",
   "execution_count": 22,
   "metadata": {},
   "outputs": [
    {
     "name": "stdout",
     "output_type": "stream",
     "text": [
      "Already create adjacency matrix.\n"
     ]
    },
    {
     "name": "stderr",
     "output_type": "stream",
     "text": [
      "D:\\ADM Assignment 3\\recommenders\\reco_utils\\recommender\\deeprec\\DataModel\\ImplicitCF.py:179: RuntimeWarning: divide by zero encountered in power\n",
      "  d_inv = np.power(rowsum, -0.5).flatten()\n"
     ]
    },
    {
     "name": "stdout",
     "output_type": "stream",
     "text": [
      "Already normalize adjacency matrix.\n",
      "Using xavier initialization.\n"
     ]
    }
   ],
   "source": [
    "model = LightGCN(hparams, data, seed=SEED)"
   ]
  },
  {
   "cell_type": "code",
   "execution_count": 23,
   "metadata": {},
   "outputs": [
    {
     "name": "stdout",
     "output_type": "stream",
     "text": [
      "Epoch 1 (train)12.8s: train loss = 0.47261 = (mf)0.47237 + (embed)0.00024\n",
      "Epoch 2 (train)10.9s: train loss = 0.31503 = (mf)0.31446 + (embed)0.00057\n",
      "Epoch 3 (train)11.6s: train loss = 0.28676 = (mf)0.28609 + (embed)0.00067\n",
      "Epoch 4 (train)10.9s: train loss = 0.24944 = (mf)0.24859 + (embed)0.00086\n",
      "Epoch 5 (train)11.4s + (eval)0.7s: train loss = 0.23611 = (mf)0.23507 + (embed)0.00104, recall = 0.15527, ndcg = 0.34000, precision = 0.29629, map = 0.08896\n",
      "Epoch 6 (train)10.0s: train loss = 0.22672 = (mf)0.22555 + (embed)0.00117\n",
      "Epoch 7 (train)10.4s: train loss = 0.21514 = (mf)0.21384 + (embed)0.00130\n",
      "Epoch 8 (train)11.6s: train loss = 0.20372 = (mf)0.20227 + (embed)0.00144\n",
      "Epoch 9 (train)10.4s: train loss = 0.19039 = (mf)0.18879 + (embed)0.00160\n",
      "Epoch 10 (train)10.0s + (eval)0.6s: train loss = 0.18599 = (mf)0.18422 + (embed)0.00177, recall = 0.17721, ndcg = 0.38189, precision = 0.33404, map = 0.10521\n",
      "Epoch 11 (train)10.9s: train loss = 0.17536 = (mf)0.17344 + (embed)0.00192\n",
      "Epoch 12 (train)11.0s: train loss = 0.17124 = (mf)0.16916 + (embed)0.00208\n",
      "Epoch 13 (train)10.7s: train loss = 0.16743 = (mf)0.16523 + (embed)0.00220\n",
      "Epoch 14 (train)11.1s: train loss = 0.16279 = (mf)0.16047 + (embed)0.00232\n",
      "Epoch 15 (train)10.8s + (eval)0.7s: train loss = 0.16466 = (mf)0.16224 + (embed)0.00243, recall = 0.19078, ndcg = 0.40081, precision = 0.35228, map = 0.11450\n",
      "Epoch 16 (train)11.6s: train loss = 0.15980 = (mf)0.15728 + (embed)0.00252\n",
      "Epoch 17 (train)11.0s: train loss = 0.15801 = (mf)0.15539 + (embed)0.00262\n",
      "Epoch 18 (train)11.2s: train loss = 0.15699 = (mf)0.15427 + (embed)0.00272\n",
      "Epoch 19 (train)11.1s: train loss = 0.15452 = (mf)0.15171 + (embed)0.00280\n",
      "Epoch 20 (train)11.1s + (eval)0.7s: train loss = 0.15018 = (mf)0.14727 + (embed)0.00291, recall = 0.19829, ndcg = 0.42083, precision = 0.36607, map = 0.12300\n",
      "Epoch 21 (train)11.9s: train loss = 0.14659 = (mf)0.14358 + (embed)0.00301\n",
      "Epoch 22 (train)10.8s: train loss = 0.14629 = (mf)0.14317 + (embed)0.00312\n",
      "Epoch 23 (train)11.2s: train loss = 0.14317 = (mf)0.13994 + (embed)0.00323\n",
      "Epoch 24 (train)11.0s: train loss = 0.14224 = (mf)0.13891 + (embed)0.00333\n",
      "Epoch 25 (train)10.7s + (eval)0.6s: train loss = 0.13913 = (mf)0.13569 + (embed)0.00344, recall = 0.20504, ndcg = 0.43344, precision = 0.38017, map = 0.12920\n",
      "Epoch 26 (train)10.5s: train loss = 0.13797 = (mf)0.13441 + (embed)0.00356\n",
      "Epoch 27 (train)10.3s: train loss = 0.13559 = (mf)0.13193 + (embed)0.00367\n",
      "Epoch 28 (train)10.5s: train loss = 0.13392 = (mf)0.13013 + (embed)0.00378\n",
      "Epoch 29 (train)10.6s: train loss = 0.13225 = (mf)0.12835 + (embed)0.00390\n",
      "Epoch 30 (train)10.9s + (eval)0.8s: train loss = 0.12931 = (mf)0.12530 + (embed)0.00401, recall = 0.20723, ndcg = 0.43991, precision = 0.38515, map = 0.13128\n",
      "Epoch 31 (train)9.9s: train loss = 0.12558 = (mf)0.12144 + (embed)0.00414\n",
      "Epoch 32 (train)11.0s: train loss = 0.12493 = (mf)0.12067 + (embed)0.00426\n",
      "Epoch 33 (train)10.9s: train loss = 0.12429 = (mf)0.11991 + (embed)0.00438\n",
      "Epoch 34 (train)11.0s: train loss = 0.12054 = (mf)0.11604 + (embed)0.00450\n",
      "Epoch 35 (train)10.9s + (eval)0.8s: train loss = 0.11904 = (mf)0.11440 + (embed)0.00464, recall = 0.20876, ndcg = 0.44409, precision = 0.38982, map = 0.13364\n",
      "Epoch 36 (train)10.5s: train loss = 0.11888 = (mf)0.11414 + (embed)0.00475\n",
      "Epoch 37 (train)10.9s: train loss = 0.11945 = (mf)0.11460 + (embed)0.00485\n",
      "Epoch 38 (train)11.1s: train loss = 0.11489 = (mf)0.10990 + (embed)0.00498\n",
      "Epoch 39 (train)11.2s: train loss = 0.11331 = (mf)0.10820 + (embed)0.00511\n",
      "Epoch 40 (train)11.7s + (eval)0.7s: train loss = 0.11306 = (mf)0.10783 + (embed)0.00523, recall = 0.21397, ndcg = 0.45094, precision = 0.39618, map = 0.13551\n",
      "Epoch 41 (train)11.4s: train loss = 0.11012 = (mf)0.10478 + (embed)0.00534\n",
      "Epoch 42 (train)10.2s: train loss = 0.11188 = (mf)0.10641 + (embed)0.00547\n",
      "Epoch 43 (train)11.2s: train loss = 0.10700 = (mf)0.10143 + (embed)0.00557\n",
      "Epoch 44 (train)10.6s: train loss = 0.10570 = (mf)0.09999 + (embed)0.00571\n",
      "Epoch 45 (train)10.6s + (eval)0.6s: train loss = 0.10583 = (mf)0.10001 + (embed)0.00582, recall = 0.21186, ndcg = 0.45176, precision = 0.39756, map = 0.13477\n",
      "Epoch 46 (train)10.6s: train loss = 0.10480 = (mf)0.09886 + (embed)0.00594\n",
      "Epoch 47 (train)11.0s: train loss = 0.10084 = (mf)0.09477 + (embed)0.00607\n",
      "Epoch 48 (train)10.7s: train loss = 0.10154 = (mf)0.09533 + (embed)0.00621\n",
      "Epoch 49 (train)11.3s: train loss = 0.10055 = (mf)0.09423 + (embed)0.00632\n",
      "Epoch 50 (train)11.1s + (eval)0.8s: train loss = 0.10051 = (mf)0.09406 + (embed)0.00645, recall = 0.21445, ndcg = 0.45503, precision = 0.40053, map = 0.13550\n",
      "Took 553.2396543000001 seconds for training.\n"
     ]
    }
   ],
   "source": [
    "with Timer() as train_time:\n",
    "    model.fit()\n",
    "\n",
    "print(\"Took {} seconds for training.\".format(train_time.interval))"
   ]
  },
  {
   "cell_type": "code",
   "execution_count": 24,
   "metadata": {},
   "outputs": [
    {
     "data": {
      "text/html": [
       "<div>\n",
       "<style scoped>\n",
       "    .dataframe tbody tr th:only-of-type {\n",
       "        vertical-align: middle;\n",
       "    }\n",
       "\n",
       "    .dataframe tbody tr th {\n",
       "        vertical-align: top;\n",
       "    }\n",
       "\n",
       "    .dataframe thead th {\n",
       "        text-align: right;\n",
       "    }\n",
       "</style>\n",
       "<table border=\"1\" class=\"dataframe\">\n",
       "  <thead>\n",
       "    <tr style=\"text-align: right;\">\n",
       "      <th></th>\n",
       "      <th>userID</th>\n",
       "      <th>itemID</th>\n",
       "      <th>prediction</th>\n",
       "    </tr>\n",
       "  </thead>\n",
       "  <tbody>\n",
       "    <tr>\n",
       "      <th>0</th>\n",
       "      <td>1</td>\n",
       "      <td>7</td>\n",
       "      <td>5.654733</td>\n",
       "    </tr>\n",
       "    <tr>\n",
       "      <th>1</th>\n",
       "      <td>1</td>\n",
       "      <td>475</td>\n",
       "      <td>5.286865</td>\n",
       "    </tr>\n",
       "    <tr>\n",
       "      <th>2</th>\n",
       "      <td>1</td>\n",
       "      <td>408</td>\n",
       "      <td>5.246353</td>\n",
       "    </tr>\n",
       "    <tr>\n",
       "      <th>3</th>\n",
       "      <td>1</td>\n",
       "      <td>919</td>\n",
       "      <td>5.183239</td>\n",
       "    </tr>\n",
       "    <tr>\n",
       "      <th>4</th>\n",
       "      <td>1</td>\n",
       "      <td>127</td>\n",
       "      <td>5.085067</td>\n",
       "    </tr>\n",
       "  </tbody>\n",
       "</table>\n",
       "</div>"
      ],
      "text/plain": [
       "   userID  itemID  prediction\n",
       "0       1       7    5.654733\n",
       "1       1     475    5.286865\n",
       "2       1     408    5.246353\n",
       "3       1     919    5.183239\n",
       "4       1     127    5.085067"
      ]
     },
     "execution_count": 24,
     "metadata": {},
     "output_type": "execute_result"
    }
   ],
   "source": [
    "topk_scores = model.recommend_k_items(test, top_k=TOP_K, remove_seen=True)\n",
    "\n",
    "topk_scores.head()"
   ]
  },
  {
   "cell_type": "code",
   "execution_count": 25,
   "metadata": {},
   "outputs": [
    {
     "name": "stdout",
     "output_type": "stream",
     "text": [
      "MAP:\t0.135497\n",
      "NDCG:\t0.455034\n",
      "Precision@K:\t0.400530\n",
      "Recall@K:\t0.214454\n"
     ]
    }
   ],
   "source": [
    "eval_map = map_at_k(test, topk_scores, k=TOP_K)\n",
    "eval_ndcg = ndcg_at_k(test, topk_scores, k=TOP_K)\n",
    "eval_precision = precision_at_k(test, topk_scores, k=TOP_K)\n",
    "eval_recall = recall_at_k(test, topk_scores, k=TOP_K)\n",
    "\n",
    "print(\"MAP:\\t%f\" % eval_map,\n",
    "      \"NDCG:\\t%f\" % eval_ndcg,\n",
    "      \"Precision@K:\\t%f\" % eval_precision,\n",
    "      \"Recall@K:\\t%f\" % eval_recall, sep='\\n')"
   ]
  },
  {
   "cell_type": "code",
   "execution_count": 17,
   "metadata": {},
   "outputs": [],
   "source": [
    "model.infer_embedding(user_file, item_file)"
   ]
  },
  {
   "cell_type": "code",
   "execution_count": 1,
   "metadata": {},
   "outputs": [
    {
     "name": "stdout",
     "output_type": "stream",
     "text": [
      "D:\\ADM Assignment 3\\recommenders\n"
     ]
    }
   ],
   "source": [
    "cd D:\\ADM Assignment 3\\recommenders"
   ]
  },
  {
   "cell_type": "code",
   "execution_count": 18,
   "metadata": {},
   "outputs": [],
   "source": [
    "import joblib"
   ]
  },
  {
   "cell_type": "code",
   "execution_count": 19,
   "metadata": {},
   "outputs": [
    {
     "data": {
      "text/plain": [
       "['LightGCN.sav']"
      ]
     },
     "execution_count": 19,
     "metadata": {},
     "output_type": "execute_result"
    }
   ],
   "source": [
    "filename = 'LightGCN.sav'\n",
    "joblib.dump(model, filename)"
   ]
  },
  {
   "cell_type": "code",
   "execution_count": 26,
   "metadata": {},
   "outputs": [],
   "source": [
    "topk_scores.to_csv(\"LightGCN.csv\")"
   ]
  },
  {
   "cell_type": "code",
   "execution_count": null,
   "metadata": {},
   "outputs": [],
   "source": []
  }
 ],
 "metadata": {
  "kernelspec": {
   "display_name": "Python 3",
   "language": "python",
   "name": "python3"
  },
  "language_info": {
   "codemirror_mode": {
    "name": "ipython",
    "version": 3
   },
   "file_extension": ".py",
   "mimetype": "text/x-python",
   "name": "python",
   "nbconvert_exporter": "python",
   "pygments_lexer": "ipython3",
   "version": "3.7.6"
  }
 },
 "nbformat": 4,
 "nbformat_minor": 2
}
