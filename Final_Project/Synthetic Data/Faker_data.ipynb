{
 "cells": [
  {
   "cell_type": "code",
   "execution_count": 1,
   "metadata": {},
   "outputs": [],
   "source": [
    "from faker import Faker\n",
    "import numpy as np\n",
    "import pandas as pd \n",
    "fake_data = Faker()"
   ]
  },
  {
   "cell_type": "code",
   "execution_count": 7,
   "metadata": {},
   "outputs": [],
   "source": [
    "User = 500000\n",
    "Product = 10"
   ]
  },
  {
   "cell_type": "code",
   "execution_count": 8,
   "metadata": {},
   "outputs": [],
   "source": [
    "def userId(userNo,productNo):\n",
    "    user = []\n",
    "    for i in range(userNo):\n",
    "        user_Id = fake_data.pyint(min_value=100, max_value=1000, step=1)\n",
    "        for j in range(productNo):\n",
    "                user.append(user_Id)\n",
    "                \n",
    "    return user"
   ]
  },
  {
   "cell_type": "code",
   "execution_count": 9,
   "metadata": {},
   "outputs": [],
   "source": [
    "def ProductId(userNo,productNo):\n",
    "    prodId = []\n",
    "    for i in range(userNo):\n",
    "        prod_Id = fake_data.pyint(min_value=1000, max_value=2000, step=1)\n",
    "        for j in range(productNo):\n",
    "                user.append(prod_Id)\n",
    "                \n",
    "    return user"
   ]
  },
  {
   "cell_type": "code",
   "execution_count": 10,
   "metadata": {},
   "outputs": [],
   "source": [
    "def rating(userNo):\n",
    "    rating = []\n",
    "    for i in range(userNo):\n",
    "        rating.append(np.random.randint(5,10))\n",
    "    return rating"
   ]
  },
  {
   "cell_type": "code",
   "execution_count": 11,
   "metadata": {},
   "outputs": [],
   "source": [
    "user= userId(User,Product)\n",
    "product = ProductId(User,Product)\n",
    "rating = rating(User)"
   ]
  },
  {
   "cell_type": "code",
   "execution_count": 12,
   "metadata": {},
   "outputs": [],
   "source": [
    "rating_data = pd.DataFrame(list(zip(user, product, rating)),\n",
    "                   columns = ['userId', 'Product_Id', 'Ratings'])"
   ]
  },
  {
   "cell_type": "code",
   "execution_count": 13,
   "metadata": {},
   "outputs": [
    {
     "name": "stdout",
     "output_type": "stream",
     "text": [
      "C:\\Users\\verle\n"
     ]
    }
   ],
   "source": [
    "cd C:\\Users\\verle"
   ]
  },
  {
   "cell_type": "code",
   "execution_count": 14,
   "metadata": {},
   "outputs": [],
   "source": [
    "rating_data.to_csv('rating.csv')"
   ]
  }
 ],
 "metadata": {
  "kernelspec": {
   "display_name": "Python 3",
   "language": "python",
   "name": "python3"
  },
  "language_info": {
   "codemirror_mode": {
    "name": "ipython",
    "version": 3
   },
   "file_extension": ".py",
   "mimetype": "text/x-python",
   "name": "python",
   "nbconvert_exporter": "python",
   "pygments_lexer": "ipython3",
   "version": "3.7.4"
  }
 },
 "nbformat": 4,
 "nbformat_minor": 4
}
