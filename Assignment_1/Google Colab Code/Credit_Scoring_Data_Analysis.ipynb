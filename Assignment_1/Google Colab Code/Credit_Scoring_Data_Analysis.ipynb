{
  "nbformat": 4,
  "nbformat_minor": 0,
  "metadata": {
    "colab": {
      "name": "Credit Scoring Data Analysis",
      "provenance": [],
      "collapsed_sections": [],
      "toc_visible": true
    },
    "kernelspec": {
      "name": "python3",
      "display_name": "Python 3"
    }
  },
  "cells": [
    {
      "cell_type": "markdown",
      "metadata": {
        "id": "myxG_pu-33uG",
        "colab_type": "text"
      },
      "source": [
        "# Credit Scoring Data Analysis"
      ]
    },
    {
      "cell_type": "markdown",
      "metadata": {
        "id": "OT8T7POo7-ru",
        "colab_type": "text"
      },
      "source": [
        "### Importing dataset"
      ]
    },
    {
      "cell_type": "code",
      "metadata": {
        "id": "CtiyLE5664qg",
        "colab_type": "code",
        "outputId": "b4ee2f30-82b7-4494-b7e4-deab1c470786",
        "colab": {
          "base_uri": "https://localhost:8080/",
          "height": 121
        }
      },
      "source": [
        "from google.colab import drive\n",
        "drive.mount('/content/drive')"
      ],
      "execution_count": 2,
      "outputs": [
        {
          "output_type": "stream",
          "text": [
            "Go to this URL in a browser: https://accounts.google.com/o/oauth2/auth?client_id=947318989803-6bn6qk8qdgf4n4g3pfee6491hc0brc4i.apps.googleusercontent.com&redirect_uri=urn%3aietf%3awg%3aoauth%3a2.0%3aoob&response_type=code&scope=email%20https%3a%2f%2fwww.googleapis.com%2fauth%2fdocs.test%20https%3a%2f%2fwww.googleapis.com%2fauth%2fdrive%20https%3a%2f%2fwww.googleapis.com%2fauth%2fdrive.photos.readonly%20https%3a%2f%2fwww.googleapis.com%2fauth%2fpeopleapi.readonly\n",
            "\n",
            "Enter your authorization code:\n",
            "··········\n",
            "Mounted at /content/drive\n"
          ],
          "name": "stdout"
        }
      ]
    },
    {
      "cell_type": "code",
      "metadata": {
        "id": "sGc0CP758Orf",
        "colab_type": "code",
        "outputId": "b43ffb76-ddb7-475f-b3be-ea764c366c09",
        "colab": {
          "base_uri": "https://localhost:8080/",
          "height": 252
        }
      },
      "source": [
        "import pandas as pd\n",
        "credit_card_dataframe = pd.read_csv(\"/content/drive/My Drive/Datasets/cs-training.csv\", index_col=0)\n",
        "credit_card_dataframe.head(10)\n",
        "credit_card_dataframe.count"
      ],
      "execution_count": 3,
      "outputs": [
        {
          "output_type": "execute_result",
          "data": {
            "text/plain": [
              "<bound method DataFrame.count of         SeriousDlqin2yrs  ...  NumberOfDependents\n",
              "1                      1  ...                 2.0\n",
              "2                      0  ...                 1.0\n",
              "3                      0  ...                 0.0\n",
              "4                      0  ...                 0.0\n",
              "5                      0  ...                 0.0\n",
              "...                  ...  ...                 ...\n",
              "149996                 0  ...                 0.0\n",
              "149997                 0  ...                 2.0\n",
              "149998                 0  ...                 0.0\n",
              "149999                 0  ...                 0.0\n",
              "150000                 0  ...                 0.0\n",
              "\n",
              "[150000 rows x 11 columns]>"
            ]
          },
          "metadata": {
            "tags": []
          },
          "execution_count": 3
        }
      ]
    },
    {
      "cell_type": "markdown",
      "metadata": {
        "id": "zaO-4r0s5VCq",
        "colab_type": "text"
      },
      "source": [
        "### Importing Packages"
      ]
    },
    {
      "cell_type": "code",
      "metadata": {
        "id": "w9pXOkeR5fFB",
        "colab_type": "code",
        "outputId": "744d2775-b695-400b-d2e8-c54b68754fdd",
        "colab": {
          "base_uri": "https://localhost:8080/",
          "height": 70
        }
      },
      "source": [
        "import numpy as np \n",
        "import pandas as pd \n",
        "import matplotlib.pyplot as plt\n",
        "import seaborn as sns"
      ],
      "execution_count": 4,
      "outputs": [
        {
          "output_type": "stream",
          "text": [
            "/usr/local/lib/python3.6/dist-packages/statsmodels/tools/_testing.py:19: FutureWarning: pandas.util.testing is deprecated. Use the functions in the public API at pandas.testing instead.\n",
            "  import pandas.util.testing as tm\n"
          ],
          "name": "stderr"
        }
      ]
    },
    {
      "cell_type": "markdown",
      "metadata": {
        "id": "0trY3XXu94-9",
        "colab_type": "text"
      },
      "source": [
        "### Finding the missing data"
      ]
    },
    {
      "cell_type": "code",
      "metadata": {
        "id": "IbJ8tvEd9_VD",
        "colab_type": "code",
        "outputId": "e2de7bc6-a68f-4f55-be8e-bd8c0371134f",
        "colab": {
          "base_uri": "https://localhost:8080/",
          "height": 373
        }
      },
      "source": [
        "null_values = credit_card_dataframe.isnull().sum()\n",
        "pd.DataFrame({\"Feature\": null_values.index, \"Count of missing values\": null_values.values})"
      ],
      "execution_count": 5,
      "outputs": [
        {
          "output_type": "execute_result",
          "data": {
            "text/html": [
              "<div>\n",
              "<style scoped>\n",
              "    .dataframe tbody tr th:only-of-type {\n",
              "        vertical-align: middle;\n",
              "    }\n",
              "\n",
              "    .dataframe tbody tr th {\n",
              "        vertical-align: top;\n",
              "    }\n",
              "\n",
              "    .dataframe thead th {\n",
              "        text-align: right;\n",
              "    }\n",
              "</style>\n",
              "<table border=\"1\" class=\"dataframe\">\n",
              "  <thead>\n",
              "    <tr style=\"text-align: right;\">\n",
              "      <th></th>\n",
              "      <th>Feature</th>\n",
              "      <th>Count of missing values</th>\n",
              "    </tr>\n",
              "  </thead>\n",
              "  <tbody>\n",
              "    <tr>\n",
              "      <th>0</th>\n",
              "      <td>SeriousDlqin2yrs</td>\n",
              "      <td>0</td>\n",
              "    </tr>\n",
              "    <tr>\n",
              "      <th>1</th>\n",
              "      <td>RevolvingUtilizationOfUnsecuredLines</td>\n",
              "      <td>0</td>\n",
              "    </tr>\n",
              "    <tr>\n",
              "      <th>2</th>\n",
              "      <td>age</td>\n",
              "      <td>0</td>\n",
              "    </tr>\n",
              "    <tr>\n",
              "      <th>3</th>\n",
              "      <td>NumberOfTime30-59DaysPastDueNotWorse</td>\n",
              "      <td>0</td>\n",
              "    </tr>\n",
              "    <tr>\n",
              "      <th>4</th>\n",
              "      <td>DebtRatio</td>\n",
              "      <td>0</td>\n",
              "    </tr>\n",
              "    <tr>\n",
              "      <th>5</th>\n",
              "      <td>MonthlyIncome</td>\n",
              "      <td>29731</td>\n",
              "    </tr>\n",
              "    <tr>\n",
              "      <th>6</th>\n",
              "      <td>NumberOfOpenCreditLinesAndLoans</td>\n",
              "      <td>0</td>\n",
              "    </tr>\n",
              "    <tr>\n",
              "      <th>7</th>\n",
              "      <td>NumberOfTimes90DaysLate</td>\n",
              "      <td>0</td>\n",
              "    </tr>\n",
              "    <tr>\n",
              "      <th>8</th>\n",
              "      <td>NumberRealEstateLoansOrLines</td>\n",
              "      <td>0</td>\n",
              "    </tr>\n",
              "    <tr>\n",
              "      <th>9</th>\n",
              "      <td>NumberOfTime60-89DaysPastDueNotWorse</td>\n",
              "      <td>0</td>\n",
              "    </tr>\n",
              "    <tr>\n",
              "      <th>10</th>\n",
              "      <td>NumberOfDependents</td>\n",
              "      <td>3924</td>\n",
              "    </tr>\n",
              "  </tbody>\n",
              "</table>\n",
              "</div>"
            ],
            "text/plain": [
              "                                 Feature  Count of missing values\n",
              "0                       SeriousDlqin2yrs                        0\n",
              "1   RevolvingUtilizationOfUnsecuredLines                        0\n",
              "2                                    age                        0\n",
              "3   NumberOfTime30-59DaysPastDueNotWorse                        0\n",
              "4                              DebtRatio                        0\n",
              "5                          MonthlyIncome                    29731\n",
              "6        NumberOfOpenCreditLinesAndLoans                        0\n",
              "7                NumberOfTimes90DaysLate                        0\n",
              "8           NumberRealEstateLoansOrLines                        0\n",
              "9   NumberOfTime60-89DaysPastDueNotWorse                        0\n",
              "10                    NumberOfDependents                     3924"
            ]
          },
          "metadata": {
            "tags": []
          },
          "execution_count": 5
        }
      ]
    },
    {
      "cell_type": "markdown",
      "metadata": {
        "id": "B5JWU2VSToA9",
        "colab_type": "text"
      },
      "source": [
        "### Number of people and its proportion defaulted in the past two years"
      ]
    },
    {
      "cell_type": "code",
      "metadata": {
        "id": "OfuXRHjGTtbJ",
        "colab_type": "code",
        "outputId": "cd2ae057-30e7-44fd-ad7d-a59005799f59",
        "colab": {
          "base_uri": "https://localhost:8080/",
          "height": 302
        }
      },
      "source": [
        "sns.set(style=\"darkgrid\")\n",
        "sns.countplot(x=\"SeriousDlqin2yrs\", data = credit_card_dataframe, palette=\"Set3\")\n",
        "print(\"Total proportion of people defaulted in dataset: {}\".format(credit_card_dataframe[\"SeriousDlqin2yrs\"].sum() / len(credit_card_dataframe)))"
      ],
      "execution_count": 6,
      "outputs": [
        {
          "output_type": "stream",
          "text": [
            "Total proportion of people defaulted in dataset: 0.06684\n"
          ],
          "name": "stdout"
        },
        {
          "output_type": "display_data",
          "data": {
            "image/png": "[encoded data removed]",
            "text/plain": [
              "<Figure size 432x288 with 1 Axes>"
            ]
          },
          "metadata": {
            "tags": []
          }
        }
      ]
    },
    {
      "cell_type": "markdown",
      "metadata": {
        "id": "ebFZxZORqnsc",
        "colab_type": "text"
      },
      "source": [
        "### Analyzing the age feature"
      ]
    },
    {
      "cell_type": "code",
      "metadata": {
        "id": "I1G_amBFqtQz",
        "colab_type": "code",
        "outputId": "32ac687b-ce40-4562-f7ad-705aa7524122",
        "colab": {
          "base_uri": "https://localhost:8080/",
          "height": 168
        }
      },
      "source": [
        "credit_card_dataframe[\"age\"].describe()"
      ],
      "execution_count": 7,
      "outputs": [
        {
          "output_type": "execute_result",
          "data": {
            "text/plain": [
              "count    150000.000000\n",
              "mean         52.295207\n",
              "std          14.771866\n",
              "min           0.000000\n",
              "25%          41.000000\n",
              "50%          52.000000\n",
              "75%          63.000000\n",
              "max         109.000000\n",
              "Name: age, dtype: float64"
            ]
          },
          "metadata": {
            "tags": []
          },
          "execution_count": 7
        }
      ]
    },
    {
      "cell_type": "code",
      "metadata": {
        "id": "G0q2FX9PruDn",
        "colab_type": "code",
        "outputId": "e84b098d-5035-4c4d-f481-20544706e9bd",
        "colab": {
          "base_uri": "https://localhost:8080/",
          "height": 318
        }
      },
      "source": [
        "sns.distplot(credit_card_dataframe.loc[credit_card_dataframe[\"SeriousDlqin2yrs\"] == 0][\"age\"]).set_title(\"Age of Non-Defaulters\")"
      ],
      "execution_count": 8,
      "outputs": [
        {
          "output_type": "execute_result",
          "data": {
            "text/plain": [
              "Text(0.5, 1.0, 'Age of Non-Defaulters')"
            ]
          },
          "metadata": {
            "tags": []
          },
          "execution_count": 8
        },
        {
          "output_type": "display_data",
          "data": {
            "image/png": "[encoded data removed]",
            "text/plain": [
              "<Figure size 432x288 with 1 Axes>"
            ]
          },
          "metadata": {
            "tags": []
          }
        }
      ]
    },
    {
      "cell_type": "code",
      "metadata": {
        "id": "zEXJmpZVsOU2",
        "colab_type": "code",
        "outputId": "4faf5be1-b4a5-48a6-fe35-d54c0766505c",
        "colab": {
          "base_uri": "https://localhost:8080/",
          "height": 318
        }
      },
      "source": [
        "sns.distplot(credit_card_dataframe.loc[credit_card_dataframe[\"SeriousDlqin2yrs\"] == 1][\"age\"]).set_title(\"Age of Defaulters\")"
      ],
      "execution_count": 9,
      "outputs": [
        {
          "output_type": "execute_result",
          "data": {
            "text/plain": [
              "Text(0.5, 1.0, 'Age of Defaulters')"
            ]
          },
          "metadata": {
            "tags": []
          },
          "execution_count": 9
        },
        {
          "output_type": "display_data",
          "data": {
            "image/png": "[encoded data removed]",
            "text/plain": [
              "<Figure size 432x288 with 1 Axes>"
            ]
          },
          "metadata": {
            "tags": []
          }
        }
      ]
    },
    {
      "cell_type": "markdown",
      "metadata": {
        "id": "wR98Q2eSS9yW",
        "colab_type": "text"
      },
      "source": [
        "### Number of times all columns"
      ]
    },
    {
      "cell_type": "code",
      "metadata": {
        "id": "8L3BH5iPTC0Z",
        "colab_type": "code",
        "colab": {}
      },
      "source": [
        "Num_of_times_all = [\"NumberOfTimes90DaysLate\", \"NumberOfTime60-89DaysPastDueNotWorse\", \"NumberOfTime30-59DaysPastDueNotWorse\"]"
      ],
      "execution_count": 0,
      "outputs": []
    },
    {
      "cell_type": "markdown",
      "metadata": {
        "id": "Xgyu9TRLTQFW",
        "colab_type": "text"
      },
      "source": [
        "### Number of times 90 Days late"
      ]
    },
    {
      "cell_type": "code",
      "metadata": {
        "id": "QyyQI_vUTW46",
        "colab_type": "code",
        "outputId": "df69ed0c-5e28-48f4-a616-634d503f46bd",
        "colab": {
          "base_uri": "https://localhost:8080/",
          "height": 353
        }
      },
      "source": [
        "credit_card_dataframe[\"NumberOfTimes90DaysLate\"].value_counts()"
      ],
      "execution_count": 11,
      "outputs": [
        {
          "output_type": "execute_result",
          "data": {
            "text/plain": [
              "0     141662\n",
              "1       5243\n",
              "2       1555\n",
              "3        667\n",
              "4        291\n",
              "98       264\n",
              "5        131\n",
              "6         80\n",
              "7         38\n",
              "8         21\n",
              "9         19\n",
              "10         8\n",
              "11         5\n",
              "96         5\n",
              "13         4\n",
              "12         2\n",
              "14         2\n",
              "15         2\n",
              "17         1\n",
              "Name: NumberOfTimes90DaysLate, dtype: int64"
            ]
          },
          "metadata": {
            "tags": []
          },
          "execution_count": 11
        }
      ]
    },
    {
      "cell_type": "markdown",
      "metadata": {
        "id": "Mx9_u0DVT7JZ",
        "colab_type": "text"
      },
      "source": [
        "### Number of times 60-89 Days late"
      ]
    },
    {
      "cell_type": "code",
      "metadata": {
        "id": "PJDjcg0fTbXd",
        "colab_type": "code",
        "outputId": "5735cc8d-e0e8-40d4-da99-f941836da388",
        "colab": {
          "base_uri": "https://localhost:8080/",
          "height": 252
        }
      },
      "source": [
        "credit_card_dataframe[\"NumberOfTime60-89DaysPastDueNotWorse\"].value_counts()"
      ],
      "execution_count": 12,
      "outputs": [
        {
          "output_type": "execute_result",
          "data": {
            "text/plain": [
              "0     142396\n",
              "1       5731\n",
              "2       1118\n",
              "3        318\n",
              "98       264\n",
              "4        105\n",
              "5         34\n",
              "6         16\n",
              "7          9\n",
              "96         5\n",
              "8          2\n",
              "11         1\n",
              "9          1\n",
              "Name: NumberOfTime60-89DaysPastDueNotWorse, dtype: int64"
            ]
          },
          "metadata": {
            "tags": []
          },
          "execution_count": 12
        }
      ]
    },
    {
      "cell_type": "markdown",
      "metadata": {
        "id": "GtArtlRZUWUG",
        "colab_type": "text"
      },
      "source": [
        "### Number of times 30-59 Days late"
      ]
    },
    {
      "cell_type": "code",
      "metadata": {
        "id": "f196IffKUIHK",
        "colab_type": "code",
        "outputId": "2ddfb032-acaa-4c29-b1dc-3dbae4abdc35",
        "colab": {
          "base_uri": "https://localhost:8080/",
          "height": 302
        }
      },
      "source": [
        "credit_card_dataframe[\"NumberOfTime30-59DaysPastDueNotWorse\"].value_counts()"
      ],
      "execution_count": 13,
      "outputs": [
        {
          "output_type": "execute_result",
          "data": {
            "text/plain": [
              "0     126018\n",
              "1      16033\n",
              "2       4598\n",
              "3       1754\n",
              "4        747\n",
              "5        342\n",
              "98       264\n",
              "6        140\n",
              "7         54\n",
              "8         25\n",
              "9         12\n",
              "96         5\n",
              "10         4\n",
              "12         2\n",
              "13         1\n",
              "11         1\n",
              "Name: NumberOfTime30-59DaysPastDueNotWorse, dtype: int64"
            ]
          },
          "metadata": {
            "tags": []
          },
          "execution_count": 13
        }
      ]
    },
    {
      "cell_type": "markdown",
      "metadata": {
        "id": "mKvZuO0GUf_S",
        "colab_type": "text"
      },
      "source": [
        "### Here we can observe that for values above 17 all the three columns share the same value. Since sharing the same values is not possible because 30 days past due 96 times for a single person in a timespan of 2 years is not possible so we removed values above 17 in the NumberOfTimes90DaysLate column."
      ]
    },
    {
      "cell_type": "code",
      "metadata": {
        "id": "2EgbZf1dUUB0",
        "colab_type": "code",
        "outputId": "8b21f423-d68e-4858-fa15-a4527cde8e9e",
        "colab": {
          "base_uri": "https://localhost:8080/",
          "height": 284
        }
      },
      "source": [
        "credit_card_dataframe.loc[credit_card_dataframe[\"NumberOfTimes90DaysLate\"] > 17][Num_of_times_all].describe()"
      ],
      "execution_count": 14,
      "outputs": [
        {
          "output_type": "execute_result",
          "data": {
            "text/html": [
              "<div>\n",
              "<style scoped>\n",
              "    .dataframe tbody tr th:only-of-type {\n",
              "        vertical-align: middle;\n",
              "    }\n",
              "\n",
              "    .dataframe tbody tr th {\n",
              "        vertical-align: top;\n",
              "    }\n",
              "\n",
              "    .dataframe thead th {\n",
              "        text-align: right;\n",
              "    }\n",
              "</style>\n",
              "<table border=\"1\" class=\"dataframe\">\n",
              "  <thead>\n",
              "    <tr style=\"text-align: right;\">\n",
              "      <th></th>\n",
              "      <th>NumberOfTimes90DaysLate</th>\n",
              "      <th>NumberOfTime60-89DaysPastDueNotWorse</th>\n",
              "      <th>NumberOfTime30-59DaysPastDueNotWorse</th>\n",
              "    </tr>\n",
              "  </thead>\n",
              "  <tbody>\n",
              "    <tr>\n",
              "      <th>count</th>\n",
              "      <td>269.000000</td>\n",
              "      <td>269.000000</td>\n",
              "      <td>269.000000</td>\n",
              "    </tr>\n",
              "    <tr>\n",
              "      <th>mean</th>\n",
              "      <td>97.962825</td>\n",
              "      <td>97.962825</td>\n",
              "      <td>97.962825</td>\n",
              "    </tr>\n",
              "    <tr>\n",
              "      <th>std</th>\n",
              "      <td>0.270628</td>\n",
              "      <td>0.270628</td>\n",
              "      <td>0.270628</td>\n",
              "    </tr>\n",
              "    <tr>\n",
              "      <th>min</th>\n",
              "      <td>96.000000</td>\n",
              "      <td>96.000000</td>\n",
              "      <td>96.000000</td>\n",
              "    </tr>\n",
              "    <tr>\n",
              "      <th>25%</th>\n",
              "      <td>98.000000</td>\n",
              "      <td>98.000000</td>\n",
              "      <td>98.000000</td>\n",
              "    </tr>\n",
              "    <tr>\n",
              "      <th>50%</th>\n",
              "      <td>98.000000</td>\n",
              "      <td>98.000000</td>\n",
              "      <td>98.000000</td>\n",
              "    </tr>\n",
              "    <tr>\n",
              "      <th>75%</th>\n",
              "      <td>98.000000</td>\n",
              "      <td>98.000000</td>\n",
              "      <td>98.000000</td>\n",
              "    </tr>\n",
              "    <tr>\n",
              "      <th>max</th>\n",
              "      <td>98.000000</td>\n",
              "      <td>98.000000</td>\n",
              "      <td>98.000000</td>\n",
              "    </tr>\n",
              "  </tbody>\n",
              "</table>\n",
              "</div>"
            ],
            "text/plain": [
              "       NumberOfTimes90DaysLate  ...  NumberOfTime30-59DaysPastDueNotWorse\n",
              "count               269.000000  ...                            269.000000\n",
              "mean                 97.962825  ...                             97.962825\n",
              "std                   0.270628  ...                              0.270628\n",
              "min                  96.000000  ...                             96.000000\n",
              "25%                  98.000000  ...                             98.000000\n",
              "50%                  98.000000  ...                             98.000000\n",
              "75%                  98.000000  ...                             98.000000\n",
              "max                  98.000000  ...                             98.000000\n",
              "\n",
              "[8 rows x 3 columns]"
            ]
          },
          "metadata": {
            "tags": []
          },
          "execution_count": 14
        }
      ]
    },
    {
      "cell_type": "markdown",
      "metadata": {
        "id": "fOttMMAKVO5T",
        "colab_type": "text"
      },
      "source": [
        "### Analyzing the DeptRatio feature"
      ]
    },
    {
      "cell_type": "code",
      "metadata": {
        "id": "a75_pOiAU7xY",
        "colab_type": "code",
        "outputId": "31a982ce-a1cf-4af8-90c0-87b0025df087",
        "colab": {
          "base_uri": "https://localhost:8080/",
          "height": 168
        }
      },
      "source": [
        "credit_card_dataframe[\"DebtRatio\"].describe()"
      ],
      "execution_count": 15,
      "outputs": [
        {
          "output_type": "execute_result",
          "data": {
            "text/plain": [
              "count    150000.000000\n",
              "mean        353.005076\n",
              "std        2037.818523\n",
              "min           0.000000\n",
              "25%           0.175074\n",
              "50%           0.366508\n",
              "75%           0.868254\n",
              "max      329664.000000\n",
              "Name: DebtRatio, dtype: float64"
            ]
          },
          "metadata": {
            "tags": []
          },
          "execution_count": 15
        }
      ]
    },
    {
      "cell_type": "code",
      "metadata": {
        "id": "sdj2URi7VbI9",
        "colab_type": "code",
        "outputId": "0989f6ed-61de-470c-80dd-b1cf0624536e",
        "colab": {
          "base_uri": "https://localhost:8080/",
          "height": 34
        }
      },
      "source": [
        "credit_card_dataframe[\"DebtRatio\"].quantile(0.90)"
      ],
      "execution_count": 16,
      "outputs": [
        {
          "output_type": "execute_result",
          "data": {
            "text/plain": [
              "1267.0"
            ]
          },
          "metadata": {
            "tags": []
          },
          "execution_count": 16
        }
      ]
    },
    {
      "cell_type": "code",
      "metadata": {
        "id": "PpZHWzc0WXRI",
        "colab_type": "code",
        "outputId": "544ca181-f924-4a2c-c595-3d64094e7811",
        "colab": {
          "base_uri": "https://localhost:8080/",
          "height": 284
        }
      },
      "source": [
        "credit_card_dataframe.loc[credit_card_dataframe[\"DebtRatio\"] > credit_card_dataframe[\"DebtRatio\"].quantile(0.90)][[\"DebtRatio\", \"MonthlyIncome\", \"SeriousDlqin2yrs\"]].describe()"
      ],
      "execution_count": 17,
      "outputs": [
        {
          "output_type": "execute_result",
          "data": {
            "text/html": [
              "<div>\n",
              "<style scoped>\n",
              "    .dataframe tbody tr th:only-of-type {\n",
              "        vertical-align: middle;\n",
              "    }\n",
              "\n",
              "    .dataframe tbody tr th {\n",
              "        vertical-align: top;\n",
              "    }\n",
              "\n",
              "    .dataframe thead th {\n",
              "        text-align: right;\n",
              "    }\n",
              "</style>\n",
              "<table border=\"1\" class=\"dataframe\">\n",
              "  <thead>\n",
              "    <tr style=\"text-align: right;\">\n",
              "      <th></th>\n",
              "      <th>DebtRatio</th>\n",
              "      <th>MonthlyIncome</th>\n",
              "      <th>SeriousDlqin2yrs</th>\n",
              "    </tr>\n",
              "  </thead>\n",
              "  <tbody>\n",
              "    <tr>\n",
              "      <th>count</th>\n",
              "      <td>14995.000000</td>\n",
              "      <td>849.000000</td>\n",
              "      <td>14995.000000</td>\n",
              "    </tr>\n",
              "    <tr>\n",
              "      <th>mean</th>\n",
              "      <td>3117.423008</td>\n",
              "      <td>0.195524</td>\n",
              "      <td>0.049817</td>\n",
              "    </tr>\n",
              "    <tr>\n",
              "      <th>std</th>\n",
              "      <td>5722.028320</td>\n",
              "      <td>0.396837</td>\n",
              "      <td>0.217573</td>\n",
              "    </tr>\n",
              "    <tr>\n",
              "      <th>min</th>\n",
              "      <td>1268.000000</td>\n",
              "      <td>0.000000</td>\n",
              "      <td>0.000000</td>\n",
              "    </tr>\n",
              "    <tr>\n",
              "      <th>25%</th>\n",
              "      <td>1804.000000</td>\n",
              "      <td>0.000000</td>\n",
              "      <td>0.000000</td>\n",
              "    </tr>\n",
              "    <tr>\n",
              "      <th>50%</th>\n",
              "      <td>2449.000000</td>\n",
              "      <td>0.000000</td>\n",
              "      <td>0.000000</td>\n",
              "    </tr>\n",
              "    <tr>\n",
              "      <th>75%</th>\n",
              "      <td>3490.000000</td>\n",
              "      <td>0.000000</td>\n",
              "      <td>0.000000</td>\n",
              "    </tr>\n",
              "    <tr>\n",
              "      <th>max</th>\n",
              "      <td>329664.000000</td>\n",
              "      <td>1.000000</td>\n",
              "      <td>1.000000</td>\n",
              "    </tr>\n",
              "  </tbody>\n",
              "</table>\n",
              "</div>"
            ],
            "text/plain": [
              "           DebtRatio  MonthlyIncome  SeriousDlqin2yrs\n",
              "count   14995.000000     849.000000      14995.000000\n",
              "mean     3117.423008       0.195524          0.049817\n",
              "std      5722.028320       0.396837          0.217573\n",
              "min      1268.000000       0.000000          0.000000\n",
              "25%      1804.000000       0.000000          0.000000\n",
              "50%      2449.000000       0.000000          0.000000\n",
              "75%      3490.000000       0.000000          0.000000\n",
              "max    329664.000000       1.000000          1.000000"
            ]
          },
          "metadata": {
            "tags": []
          },
          "execution_count": 17
        }
      ]
    },
    {
      "cell_type": "code",
      "metadata": {
        "id": "gCSzTL97aNDd",
        "colab_type": "code",
        "outputId": "50c06d9d-7eb7-4a7c-807c-cf85e92e7af7",
        "colab": {
          "base_uri": "https://localhost:8080/",
          "height": 34
        }
      },
      "source": [
        "len(credit_card_dataframe[(credit_card_dataframe[\"DebtRatio\"] > credit_card_dataframe[\"DebtRatio\"].quantile(0.90)) & (credit_card_dataframe['SeriousDlqin2yrs'] == credit_card_dataframe['MonthlyIncome'])])"
      ],
      "execution_count": 18,
      "outputs": [
        {
          "output_type": "execute_result",
          "data": {
            "text/plain": [
              "657"
            ]
          },
          "metadata": {
            "tags": []
          },
          "execution_count": 18
        }
      ]
    },
    {
      "cell_type": "code",
      "metadata": {
        "id": "wU94-SGgadFM",
        "colab_type": "code",
        "outputId": "0dc1723c-8a29-4085-c745-ca797fbc5f78",
        "colab": {
          "base_uri": "https://localhost:8080/",
          "height": 67
        }
      },
      "source": [
        "credit_card_dataframe.loc[credit_card_dataframe[\"DebtRatio\"] > credit_card_dataframe[\"DebtRatio\"].quantile(0.90)][\"MonthlyIncome\"].value_counts()"
      ],
      "execution_count": 19,
      "outputs": [
        {
          "output_type": "execute_result",
          "data": {
            "text/plain": [
              "0.0    683\n",
              "1.0    166\n",
              "Name: MonthlyIncome, dtype: int64"
            ]
          },
          "metadata": {
            "tags": []
          },
          "execution_count": 19
        }
      ]
    },
    {
      "cell_type": "code",
      "metadata": {
        "id": "KP04QFLbak3r",
        "colab_type": "code",
        "outputId": "ab001a45-b5a9-40e8-eed2-406b8e7a48ee",
        "colab": {
          "base_uri": "https://localhost:8080/",
          "height": 34
        }
      },
      "source": [
        "credit_card_dataframe[\"DebtRatio\"].quantile(0.975)"
      ],
      "execution_count": 20,
      "outputs": [
        {
          "output_type": "execute_result",
          "data": {
            "text/plain": [
              "3489.024999999994"
            ]
          },
          "metadata": {
            "tags": []
          },
          "execution_count": 20
        }
      ]
    },
    {
      "cell_type": "code",
      "metadata": {
        "id": "-S4gKoABcD66",
        "colab_type": "code",
        "outputId": "a6f8ad28-a59c-4ce1-c7cf-a0c5f75c990b",
        "colab": {
          "base_uri": "https://localhost:8080/",
          "height": 284
        }
      },
      "source": [
        "credit_card_dataframe.loc[credit_card_dataframe[\"DebtRatio\"] > credit_card_dataframe[\"DebtRatio\"].quantile(0.975)][[\"DebtRatio\", \"MonthlyIncome\", \"SeriousDlqin2yrs\"]].describe()"
      ],
      "execution_count": 21,
      "outputs": [
        {
          "output_type": "execute_result",
          "data": {
            "text/html": [
              "<div>\n",
              "<style scoped>\n",
              "    .dataframe tbody tr th:only-of-type {\n",
              "        vertical-align: middle;\n",
              "    }\n",
              "\n",
              "    .dataframe tbody tr th {\n",
              "        vertical-align: top;\n",
              "    }\n",
              "\n",
              "    .dataframe thead th {\n",
              "        text-align: right;\n",
              "    }\n",
              "</style>\n",
              "<table border=\"1\" class=\"dataframe\">\n",
              "  <thead>\n",
              "    <tr style=\"text-align: right;\">\n",
              "      <th></th>\n",
              "      <th>DebtRatio</th>\n",
              "      <th>MonthlyIncome</th>\n",
              "      <th>SeriousDlqin2yrs</th>\n",
              "    </tr>\n",
              "  </thead>\n",
              "  <tbody>\n",
              "    <tr>\n",
              "      <th>count</th>\n",
              "      <td>3750.000000</td>\n",
              "      <td>185.000000</td>\n",
              "      <td>3750.000000</td>\n",
              "    </tr>\n",
              "    <tr>\n",
              "      <th>mean</th>\n",
              "      <td>5917.488000</td>\n",
              "      <td>0.064865</td>\n",
              "      <td>0.064267</td>\n",
              "    </tr>\n",
              "    <tr>\n",
              "      <th>std</th>\n",
              "      <td>10925.524011</td>\n",
              "      <td>0.246956</td>\n",
              "      <td>0.245260</td>\n",
              "    </tr>\n",
              "    <tr>\n",
              "      <th>min</th>\n",
              "      <td>3490.000000</td>\n",
              "      <td>0.000000</td>\n",
              "      <td>0.000000</td>\n",
              "    </tr>\n",
              "    <tr>\n",
              "      <th>25%</th>\n",
              "      <td>3957.250000</td>\n",
              "      <td>0.000000</td>\n",
              "      <td>0.000000</td>\n",
              "    </tr>\n",
              "    <tr>\n",
              "      <th>50%</th>\n",
              "      <td>4619.000000</td>\n",
              "      <td>0.000000</td>\n",
              "      <td>0.000000</td>\n",
              "    </tr>\n",
              "    <tr>\n",
              "      <th>75%</th>\n",
              "      <td>5789.500000</td>\n",
              "      <td>0.000000</td>\n",
              "      <td>0.000000</td>\n",
              "    </tr>\n",
              "    <tr>\n",
              "      <th>max</th>\n",
              "      <td>329664.000000</td>\n",
              "      <td>1.000000</td>\n",
              "      <td>1.000000</td>\n",
              "    </tr>\n",
              "  </tbody>\n",
              "</table>\n",
              "</div>"
            ],
            "text/plain": [
              "           DebtRatio  MonthlyIncome  SeriousDlqin2yrs\n",
              "count    3750.000000     185.000000       3750.000000\n",
              "mean     5917.488000       0.064865          0.064267\n",
              "std     10925.524011       0.246956          0.245260\n",
              "min      3490.000000       0.000000          0.000000\n",
              "25%      3957.250000       0.000000          0.000000\n",
              "50%      4619.000000       0.000000          0.000000\n",
              "75%      5789.500000       0.000000          0.000000\n",
              "max    329664.000000       1.000000          1.000000"
            ]
          },
          "metadata": {
            "tags": []
          },
          "execution_count": 21
        }
      ]
    },
    {
      "cell_type": "code",
      "metadata": {
        "id": "2ESTXOZUdfSy",
        "colab_type": "code",
        "outputId": "bac81688-abf3-465c-a8f2-9336199f6975",
        "colab": {
          "base_uri": "https://localhost:8080/",
          "height": 34
        }
      },
      "source": [
        "len(credit_card_dataframe[(credit_card_dataframe[\"DebtRatio\"] > credit_card_dataframe[\"DebtRatio\"].quantile(0.975)) & (credit_card_dataframe['SeriousDlqin2yrs'] == credit_card_dataframe['MonthlyIncome'])])"
      ],
      "execution_count": 22,
      "outputs": [
        {
          "output_type": "execute_result",
          "data": {
            "text/plain": [
              "164"
            ]
          },
          "metadata": {
            "tags": []
          },
          "execution_count": 22
        }
      ]
    },
    {
      "cell_type": "code",
      "metadata": {
        "id": "efR6VoO-d665",
        "colab_type": "code",
        "outputId": "3bb73cd1-88ae-4294-92d0-ee8c3cb4be0f",
        "colab": {
          "base_uri": "https://localhost:8080/",
          "height": 67
        }
      },
      "source": [
        "credit_card_dataframe.loc[credit_card_dataframe[\"DebtRatio\"] > credit_card_dataframe[\"DebtRatio\"].quantile(0.975)][\"MonthlyIncome\"].value_counts()"
      ],
      "execution_count": 23,
      "outputs": [
        {
          "output_type": "execute_result",
          "data": {
            "text/plain": [
              "0.0    173\n",
              "1.0     12\n",
              "Name: MonthlyIncome, dtype: int64"
            ]
          },
          "metadata": {
            "tags": []
          },
          "execution_count": 23
        }
      ]
    },
    {
      "cell_type": "markdown",
      "metadata": {
        "id": "SzaJ1QnZeEFu",
        "colab_type": "text"
      },
      "source": [
        "### There are almost 164 records which has same values for SeriousDlqin2yrs and MonthlyIncome which needs to be removed from the sample dataset for better results."
      ]
    },
    {
      "cell_type": "markdown",
      "metadata": {
        "id": "R1hfdAtUepEv",
        "colab_type": "text"
      },
      "source": [
        "### Analyzing the MonthlyIncome feature"
      ]
    },
    {
      "cell_type": "code",
      "metadata": {
        "id": "smFudmb9em-f",
        "colab_type": "code",
        "outputId": "d336f18f-ea46-490b-8a82-8c13ddf27ae8",
        "colab": {
          "base_uri": "https://localhost:8080/",
          "height": 34
        }
      },
      "source": [
        "credit_card_dataframe[\"MonthlyIncome\"].median()"
      ],
      "execution_count": 24,
      "outputs": [
        {
          "output_type": "execute_result",
          "data": {
            "text/plain": [
              "5400.0"
            ]
          },
          "metadata": {
            "tags": []
          },
          "execution_count": 24
        }
      ]
    },
    {
      "cell_type": "code",
      "metadata": {
        "id": "D5b_0oXsey1y",
        "colab_type": "code",
        "colab": {}
      },
      "source": [
        "credit_card_dataframe[\"MonthlyIncome\"] = credit_card_dataframe[\"MonthlyIncome\"].fillna(5400)"
      ],
      "execution_count": 0,
      "outputs": []
    },
    {
      "cell_type": "code",
      "metadata": {
        "id": "D-8vs3EefHp9",
        "colab_type": "code",
        "outputId": "67bc54ca-7153-4141-df80-d6e69f97732e",
        "colab": {
          "base_uri": "https://localhost:8080/",
          "height": 168
        }
      },
      "source": [
        "credit_card_dataframe[\"MonthlyIncome\"].describe()"
      ],
      "execution_count": 26,
      "outputs": [
        {
          "output_type": "execute_result",
          "data": {
            "text/plain": [
              "count    1.500000e+05\n",
              "mean     6.418455e+03\n",
              "std      1.289040e+04\n",
              "min      0.000000e+00\n",
              "25%      3.903000e+03\n",
              "50%      5.400000e+03\n",
              "75%      7.400000e+03\n",
              "max      3.008750e+06\n",
              "Name: MonthlyIncome, dtype: float64"
            ]
          },
          "metadata": {
            "tags": []
          },
          "execution_count": 26
        }
      ]
    },
    {
      "cell_type": "markdown",
      "metadata": {
        "id": "KtplDfqVfq76",
        "colab_type": "text"
      },
      "source": [
        "### Analyzing the NumberOfOpenCreditLinesAndLoans feature"
      ]
    },
    {
      "cell_type": "code",
      "metadata": {
        "id": "7jMFowudfx9V",
        "colab_type": "code",
        "outputId": "e67ea9eb-2069-449e-8483-966d67e2535c",
        "colab": {
          "base_uri": "https://localhost:8080/",
          "height": 168
        }
      },
      "source": [
        "credit_card_dataframe[\"NumberOfOpenCreditLinesAndLoans\"].describe()"
      ],
      "execution_count": 27,
      "outputs": [
        {
          "output_type": "execute_result",
          "data": {
            "text/plain": [
              "count    150000.000000\n",
              "mean          8.452760\n",
              "std           5.145951\n",
              "min           0.000000\n",
              "25%           5.000000\n",
              "50%           8.000000\n",
              "75%          11.000000\n",
              "max          58.000000\n",
              "Name: NumberOfOpenCreditLinesAndLoans, dtype: float64"
            ]
          },
          "metadata": {
            "tags": []
          },
          "execution_count": 27
        }
      ]
    },
    {
      "cell_type": "code",
      "metadata": {
        "id": "n9PzOXeonIRu",
        "colab_type": "code",
        "outputId": "916d6e85-880e-44b0-e7c2-e7cccf4114c4",
        "colab": {
          "base_uri": "https://localhost:8080/",
          "height": 418
        }
      },
      "source": [
        "with sns.axes_style('white'):\n",
        "    g = sns.factorplot(\"NumberOfOpenCreditLinesAndLoans\", data=credit_card_dataframe, aspect=2,\n",
        "                       kind=\"count\", color='blue')\n",
        "    g.set_xticklabels(step=5)"
      ],
      "execution_count": 28,
      "outputs": [
        {
          "output_type": "stream",
          "text": [
            "/usr/local/lib/python3.6/dist-packages/seaborn/categorical.py:3666: UserWarning: The `factorplot` function has been renamed to `catplot`. The original name will be removed in a future release. Please update your code. Note that the default `kind` in `factorplot` (`'point'`) has changed `'strip'` in `catplot`.\n",
            "  warnings.warn(msg)\n"
          ],
          "name": "stderr"
        },
        {
          "output_type": "display_data",
          "data": {
            "image/png": "[encoded data removed]",
            "text/plain": [
              "<Figure size 720x360 with 1 Axes>"
            ]
          },
          "metadata": {
            "tags": []
          }
        }
      ]
    },
    {
      "cell_type": "markdown",
      "metadata": {
        "id": "LVNCPv2LpL7D",
        "colab_type": "text"
      },
      "source": [
        "### Analyzing the NumberRealEstateLoansOrLines feature"
      ]
    },
    {
      "cell_type": "code",
      "metadata": {
        "id": "Ox7eTe9hpVx9",
        "colab_type": "code",
        "outputId": "6fdcf6dd-8cbb-4be7-983c-2132f94df51a",
        "colab": {
          "base_uri": "https://localhost:8080/",
          "height": 168
        }
      },
      "source": [
        "credit_card_dataframe[\"NumberRealEstateLoansOrLines\"].describe()"
      ],
      "execution_count": 29,
      "outputs": [
        {
          "output_type": "execute_result",
          "data": {
            "text/plain": [
              "count    150000.000000\n",
              "mean          1.018240\n",
              "std           1.129771\n",
              "min           0.000000\n",
              "25%           0.000000\n",
              "50%           1.000000\n",
              "75%           2.000000\n",
              "max          54.000000\n",
              "Name: NumberRealEstateLoansOrLines, dtype: float64"
            ]
          },
          "metadata": {
            "tags": []
          },
          "execution_count": 29
        }
      ]
    },
    {
      "cell_type": "code",
      "metadata": {
        "id": "tXKwfc2epa5i",
        "colab_type": "code",
        "outputId": "cd251636-af92-4147-98a3-9f47c13fee36",
        "colab": {
          "base_uri": "https://localhost:8080/",
          "height": 418
        }
      },
      "source": [
        "with sns.axes_style('dark'):\n",
        "    g = sns.factorplot(\"NumberRealEstateLoansOrLines\", data=credit_card_dataframe.loc[credit_card_dataframe[\"NumberRealEstateLoansOrLines\"] <= 15], aspect=2,\n",
        "                       kind=\"count\", color='black')\n",
        "    g.set_xticklabels(step=1)"
      ],
      "execution_count": 78,
      "outputs": [
        {
          "output_type": "stream",
          "text": [
            "/usr/local/lib/python3.6/dist-packages/seaborn/categorical.py:3666: UserWarning: The `factorplot` function has been renamed to `catplot`. The original name will be removed in a future release. Please update your code. Note that the default `kind` in `factorplot` (`'point'`) has changed `'strip'` in `catplot`.\n",
            "  warnings.warn(msg)\n"
          ],
          "name": "stderr"
        },
        {
          "output_type": "display_data",
          "data": {
            "image/png": "[encoded data removed]",
            "text/plain": [
              "<Figure size 720x360 with 1 Axes>"
            ]
          },
          "metadata": {
            "tags": []
          }
        }
      ]
    },
    {
      "cell_type": "markdown",
      "metadata": {
        "id": "_APHYNvkqo0Y",
        "colab_type": "text"
      },
      "source": [
        "### Analyzing the NumberOfDependents feature"
      ]
    },
    {
      "cell_type": "code",
      "metadata": {
        "id": "qai0vvfHq00P",
        "colab_type": "code",
        "outputId": "f1605e15-ece2-4f57-a67f-ab3f813f7794",
        "colab": {
          "base_uri": "https://localhost:8080/",
          "height": 168
        }
      },
      "source": [
        "credit_card_dataframe[\"NumberOfDependents\"].describe()"
      ],
      "execution_count": 31,
      "outputs": [
        {
          "output_type": "execute_result",
          "data": {
            "text/plain": [
              "count    146076.000000\n",
              "mean          0.757222\n",
              "std           1.115086\n",
              "min           0.000000\n",
              "25%           0.000000\n",
              "50%           0.000000\n",
              "75%           1.000000\n",
              "max          20.000000\n",
              "Name: NumberOfDependents, dtype: float64"
            ]
          },
          "metadata": {
            "tags": []
          },
          "execution_count": 31
        }
      ]
    },
    {
      "cell_type": "code",
      "metadata": {
        "id": "j70JphPpq56d",
        "colab_type": "code",
        "outputId": "769b4da9-b652-4102-df8f-50cb642a5e56",
        "colab": {
          "base_uri": "https://localhost:8080/",
          "height": 168
        }
      },
      "source": [
        "credit_card_dataframe.loc[credit_card_dataframe[\"NumberOfDependents\"] <= 15][\"SeriousDlqin2yrs\"].describe()"
      ],
      "execution_count": 32,
      "outputs": [
        {
          "output_type": "execute_result",
          "data": {
            "text/plain": [
              "count    146075.000000\n",
              "mean          0.067411\n",
              "std           0.250733\n",
              "min           0.000000\n",
              "25%           0.000000\n",
              "50%           0.000000\n",
              "75%           0.000000\n",
              "max           1.000000\n",
              "Name: SeriousDlqin2yrs, dtype: float64"
            ]
          },
          "metadata": {
            "tags": []
          },
          "execution_count": 32
        }
      ]
    },
    {
      "cell_type": "code",
      "metadata": {
        "id": "4As4BGshrKvB",
        "colab_type": "code",
        "outputId": "ea735bdf-471e-4583-c438-d75f55d00822",
        "colab": {
          "base_uri": "https://localhost:8080/",
          "height": 302
        }
      },
      "source": [
        "sns.countplot(x=\"NumberOfDependents\", data=credit_card_dataframe.loc[credit_card_dataframe[\"NumberOfDependents\"] <= 15])"
      ],
      "execution_count": 33,
      "outputs": [
        {
          "output_type": "execute_result",
          "data": {
            "text/plain": [
              "<matplotlib.axes._subplots.AxesSubplot at 0x7f66c4fcafd0>"
            ]
          },
          "metadata": {
            "tags": []
          },
          "execution_count": 33
        },
        {
          "output_type": "display_data",
          "data": {
            "image/png": "[encoded data removed]",
            "text/plain": [
              "<Figure size 432x288 with 1 Axes>"
            ]
          },
          "metadata": {
            "tags": []
          }
        }
      ]
    },
    {
      "cell_type": "markdown",
      "metadata": {
        "id": "ibRlocCwUd_z",
        "colab_type": "text"
      },
      "source": [
        "### Preprocessing the dataset based on our analysis"
      ]
    },
    {
      "cell_type": "code",
      "metadata": {
        "id": "40oRJhPaUkdJ",
        "colab_type": "code",
        "colab": {}
      },
      "source": [
        "credit_card_dataframe = credit_card_dataframe.loc[credit_card_dataframe[\"DebtRatio\"] <= credit_card_dataframe[\"DebtRatio\"].quantile(0.975)]\n",
        "credit_card_dataframe = credit_card_dataframe.loc[(credit_card_dataframe[\"RevolvingUtilizationOfUnsecuredLines\"] >= 0) & (credit_card_dataframe[\"RevolvingUtilizationOfUnsecuredLines\"] < 13)]\n",
        "credit_card_dataframe = credit_card_dataframe.loc[credit_card_dataframe[\"NumberOfTimes90DaysLate\"] <= 17]"
      ],
      "execution_count": 0,
      "outputs": []
    },
    {
      "cell_type": "code",
      "metadata": {
        "id": "FPgWtje93m39",
        "colab_type": "code",
        "colab": {}
      },
      "source": [
        "dependents_mode = credit_card_dataframe[\"NumberOfDependents\"].mode()[0] \n",
        "credit_card_dataframe[\"NumberOfDependents\"] = credit_card_dataframe[\"NumberOfDependents\"].fillna(dependents_mode)"
      ],
      "execution_count": 0,
      "outputs": []
    },
    {
      "cell_type": "code",
      "metadata": {
        "id": "PR7NyWX5VTPZ",
        "colab_type": "code",
        "colab": {}
      },
      "source": [
        "income_median = credit_card_dataframe[\"MonthlyIncome\"].median()\n",
        "credit_card_dataframe[\"MonthlyIncome\"] = credit_card_dataframe[\"MonthlyIncome\"].fillna(income_median)"
      ],
      "execution_count": 0,
      "outputs": []
    },
    {
      "cell_type": "code",
      "metadata": {
        "id": "JylXjtkTVQJ1",
        "colab_type": "code",
        "outputId": "fbd85a9d-da1a-417c-f5bf-9ba85bf6e229",
        "colab": {
          "base_uri": "https://localhost:8080/",
          "height": 321
        }
      },
      "source": [
        "credit_card_dataframe.describe()"
      ],
      "execution_count": 37,
      "outputs": [
        {
          "output_type": "execute_result",
          "data": {
            "text/html": [
              "<div>\n",
              "<style scoped>\n",
              "    .dataframe tbody tr th:only-of-type {\n",
              "        vertical-align: middle;\n",
              "    }\n",
              "\n",
              "    .dataframe tbody tr th {\n",
              "        vertical-align: top;\n",
              "    }\n",
              "\n",
              "    .dataframe thead th {\n",
              "        text-align: right;\n",
              "    }\n",
              "</style>\n",
              "<table border=\"1\" class=\"dataframe\">\n",
              "  <thead>\n",
              "    <tr style=\"text-align: right;\">\n",
              "      <th></th>\n",
              "      <th>SeriousDlqin2yrs</th>\n",
              "      <th>RevolvingUtilizationOfUnsecuredLines</th>\n",
              "      <th>age</th>\n",
              "      <th>NumberOfTime30-59DaysPastDueNotWorse</th>\n",
              "      <th>DebtRatio</th>\n",
              "      <th>MonthlyIncome</th>\n",
              "      <th>NumberOfOpenCreditLinesAndLoans</th>\n",
              "      <th>NumberOfTimes90DaysLate</th>\n",
              "      <th>NumberRealEstateLoansOrLines</th>\n",
              "      <th>NumberOfTime60-89DaysPastDueNotWorse</th>\n",
              "      <th>NumberOfDependents</th>\n",
              "    </tr>\n",
              "  </thead>\n",
              "  <tbody>\n",
              "    <tr>\n",
              "      <th>count</th>\n",
              "      <td>145755.000000</td>\n",
              "      <td>145755.000000</td>\n",
              "      <td>145755.000000</td>\n",
              "      <td>145755.000000</td>\n",
              "      <td>145755.000000</td>\n",
              "      <td>1.457550e+05</td>\n",
              "      <td>145755.000000</td>\n",
              "      <td>145755.000000</td>\n",
              "      <td>145755.000000</td>\n",
              "      <td>145755.000000</td>\n",
              "      <td>145755.000000</td>\n",
              "    </tr>\n",
              "    <tr>\n",
              "      <th>mean</th>\n",
              "      <td>0.066035</td>\n",
              "      <td>0.321235</td>\n",
              "      <td>52.290261</td>\n",
              "      <td>0.244540</td>\n",
              "      <td>210.578000</td>\n",
              "      <td>6.454218e+03</td>\n",
              "      <td>8.393551</td>\n",
              "      <td>0.091427</td>\n",
              "      <td>0.986724</td>\n",
              "      <td>0.065082</td>\n",
              "      <td>0.743638</td>\n",
              "    </tr>\n",
              "    <tr>\n",
              "      <th>std</th>\n",
              "      <td>0.248345</td>\n",
              "      <td>0.370229</td>\n",
              "      <td>14.845335</td>\n",
              "      <td>0.695168</td>\n",
              "      <td>620.822863</td>\n",
              "      <td>1.307069e+04</td>\n",
              "      <td>5.108814</td>\n",
              "      <td>0.487404</td>\n",
              "      <td>1.099485</td>\n",
              "      <td>0.330395</td>\n",
              "      <td>1.108977</td>\n",
              "    </tr>\n",
              "    <tr>\n",
              "      <th>min</th>\n",
              "      <td>0.000000</td>\n",
              "      <td>0.000000</td>\n",
              "      <td>0.000000</td>\n",
              "      <td>0.000000</td>\n",
              "      <td>0.000000</td>\n",
              "      <td>0.000000e+00</td>\n",
              "      <td>0.000000</td>\n",
              "      <td>0.000000</td>\n",
              "      <td>0.000000</td>\n",
              "      <td>0.000000</td>\n",
              "      <td>0.000000</td>\n",
              "    </tr>\n",
              "    <tr>\n",
              "      <th>25%</th>\n",
              "      <td>0.000000</td>\n",
              "      <td>0.029352</td>\n",
              "      <td>41.000000</td>\n",
              "      <td>0.000000</td>\n",
              "      <td>0.170697</td>\n",
              "      <td>3.841000e+03</td>\n",
              "      <td>5.000000</td>\n",
              "      <td>0.000000</td>\n",
              "      <td>0.000000</td>\n",
              "      <td>0.000000</td>\n",
              "      <td>0.000000</td>\n",
              "    </tr>\n",
              "    <tr>\n",
              "      <th>50%</th>\n",
              "      <td>0.000000</td>\n",
              "      <td>0.150747</td>\n",
              "      <td>52.000000</td>\n",
              "      <td>0.000000</td>\n",
              "      <td>0.356520</td>\n",
              "      <td>5.400000e+03</td>\n",
              "      <td>8.000000</td>\n",
              "      <td>0.000000</td>\n",
              "      <td>1.000000</td>\n",
              "      <td>0.000000</td>\n",
              "      <td>0.000000</td>\n",
              "    </tr>\n",
              "    <tr>\n",
              "      <th>75%</th>\n",
              "      <td>0.000000</td>\n",
              "      <td>0.551640</td>\n",
              "      <td>63.000000</td>\n",
              "      <td>0.000000</td>\n",
              "      <td>0.758490</td>\n",
              "      <td>7.500000e+03</td>\n",
              "      <td>11.000000</td>\n",
              "      <td>0.000000</td>\n",
              "      <td>2.000000</td>\n",
              "      <td>0.000000</td>\n",
              "      <td>1.000000</td>\n",
              "    </tr>\n",
              "    <tr>\n",
              "      <th>max</th>\n",
              "      <td>1.000000</td>\n",
              "      <td>12.462747</td>\n",
              "      <td>109.000000</td>\n",
              "      <td>13.000000</td>\n",
              "      <td>3489.000000</td>\n",
              "      <td>3.008750e+06</td>\n",
              "      <td>58.000000</td>\n",
              "      <td>17.000000</td>\n",
              "      <td>54.000000</td>\n",
              "      <td>11.000000</td>\n",
              "      <td>20.000000</td>\n",
              "    </tr>\n",
              "  </tbody>\n",
              "</table>\n",
              "</div>"
            ],
            "text/plain": [
              "       SeriousDlqin2yrs  ...  NumberOfDependents\n",
              "count     145755.000000  ...       145755.000000\n",
              "mean           0.066035  ...            0.743638\n",
              "std            0.248345  ...            1.108977\n",
              "min            0.000000  ...            0.000000\n",
              "25%            0.000000  ...            0.000000\n",
              "50%            0.000000  ...            0.000000\n",
              "75%            0.000000  ...            1.000000\n",
              "max            1.000000  ...           20.000000\n",
              "\n",
              "[8 rows x 11 columns]"
            ]
          },
          "metadata": {
            "tags": []
          },
          "execution_count": 37
        }
      ]
    },
    {
      "cell_type": "markdown",
      "metadata": {
        "id": "_dHrLL1Shnio",
        "colab_type": "text"
      },
      "source": [
        "### Training the model"
      ]
    },
    {
      "cell_type": "code",
      "metadata": {
        "id": "oABqGOWD3qc7",
        "colab_type": "code",
        "colab": {}
      },
      "source": [
        "import pandas as pd\n",
        "import numpy as np\n",
        "import joblib\n",
        "import xgboost as xgb\n",
        "from sklearn.metrics import roc_auc_score\n",
        "from sklearn.model_selection import StratifiedKFold, RandomizedSearchCV\n",
        "from xgboost import XGBClassifier"
      ],
      "execution_count": 0,
      "outputs": []
    },
    {
      "cell_type": "code",
      "metadata": {
        "id": "J4hE0Utahr1T",
        "colab_type": "code",
        "colab": {}
      },
      "source": [
        "X = credit_card_dataframe.drop(\"SeriousDlqin2yrs\", axis=1)\n",
        "Y = credit_card_dataframe[\"SeriousDlqin2yrs\"]"
      ],
      "execution_count": 0,
      "outputs": []
    },
    {
      "cell_type": "code",
      "metadata": {
        "id": "M68U_BkkjsdZ",
        "colab_type": "code",
        "colab": {}
      },
      "source": [
        "model_params = {\n",
        "    \"model_params\": {\n",
        "        'min_child_weight': list(range(1,10,2)),\n",
        "        'gamma':[i/10.0 for i in range(0,5)],\n",
        "        'subsample': [0.6, 0.8, 1.0],\n",
        "        'colsample_bytree':[i/10.0 for i in range(6,10)],\n",
        "        'max_depth':range(3,10,2),\n",
        "        'reg_alpha': [0, 0.001, 0.005, 0.01, 0.05, 0.1, 0.2],\n",
        "        'reg_lambda': [0, 0.001, 0.005, 0.01, 0.05, 0.2, 0.4, 0.6, 0.8, 1],\n",
        "        'learning_rate': [0.001, 0.002, 0.005, 0.006, 0.01, 0.02, 0.05, 0.1, 0.11, 0.12, 0.13, 0.14, 0.15, 0.2],\n",
        "        'n_estimators': [50, 100, 150, 200, 250, 300,350,400,450,500, 550, 600, 650, 700, 750],\n",
        "        \"booster\": [\"gbtree\", \"gblinear\", \"dart\"]\n",
        "        }\n",
        "}"
      ],
      "execution_count": 0,
      "outputs": []
    },
    {
      "cell_type": "markdown",
      "metadata": {
        "id": "iJdK-3WX3mrX",
        "colab_type": "text"
      },
      "source": [
        "### Using XGBOOST for training our dataset and creating our model\n",
        "XGBoost is an optimized distributed gradient boosting library designed to be highly efficient, flexible and portable. It implements machine learning algorithms under the Gradient Boosting framework. XGBoost provides a parallel tree boosting (also known as GBDT, GBM) that solve many data science problems in a fast and accurate way."
      ]
    },
    {
      "cell_type": "code",
      "metadata": {
        "id": "GOv1nxQoh7fV",
        "colab_type": "code",
        "outputId": "a1e3e192-a0e9-4682-ac91-207f7de332a4",
        "colab": {
          "base_uri": "https://localhost:8080/",
          "height": 134
        }
      },
      "source": [
        "model = XGBClassifier()\n",
        "model.fit(X, Y, eval_metric=\"auc\")\n",
        "print(model)"
      ],
      "execution_count": 76,
      "outputs": [
        {
          "output_type": "stream",
          "text": [
            "XGBClassifier(base_score=0.5, booster='gbtree', colsample_bylevel=1,\n",
            "              colsample_bynode=1, colsample_bytree=1, gamma=0,\n",
            "              learning_rate=0.1, max_delta_step=0, max_depth=3,\n",
            "              min_child_weight=1, missing=None, n_estimators=100, n_jobs=1,\n",
            "              nthread=None, objective='binary:logistic', random_state=0,\n",
            "              reg_alpha=0, reg_lambda=1, scale_pos_weight=1, seed=None,\n",
            "              silent=None, subsample=1, verbosity=1)\n"
          ],
          "name": "stdout"
        }
      ]
    },
    {
      "cell_type": "markdown",
      "metadata": {
        "id": "2JDsM9Y4melX",
        "colab_type": "text"
      },
      "source": [
        "### Predicting the SeriousDlqin2yrs feature based on our trained model."
      ]
    },
    {
      "cell_type": "code",
      "metadata": {
        "id": "ycSACMB8km5x",
        "colab_type": "code",
        "outputId": "221328cd-802f-4386-ca6b-4546ed89bc6c",
        "colab": {
          "base_uri": "https://localhost:8080/",
          "height": 438
        }
      },
      "source": [
        "ccs_test = pd.read_csv(\"/content/drive/My Drive/Datasets/cs-test.csv\", index_col=0)\n",
        "ccs_test"
      ],
      "execution_count": 42,
      "outputs": [
        {
          "output_type": "execute_result",
          "data": {
            "text/html": [
              "<div>\n",
              "<style scoped>\n",
              "    .dataframe tbody tr th:only-of-type {\n",
              "        vertical-align: middle;\n",
              "    }\n",
              "\n",
              "    .dataframe tbody tr th {\n",
              "        vertical-align: top;\n",
              "    }\n",
              "\n",
              "    .dataframe thead th {\n",
              "        text-align: right;\n",
              "    }\n",
              "</style>\n",
              "<table border=\"1\" class=\"dataframe\">\n",
              "  <thead>\n",
              "    <tr style=\"text-align: right;\">\n",
              "      <th></th>\n",
              "      <th>SeriousDlqin2yrs</th>\n",
              "      <th>RevolvingUtilizationOfUnsecuredLines</th>\n",
              "      <th>age</th>\n",
              "      <th>NumberOfTime30-59DaysPastDueNotWorse</th>\n",
              "      <th>DebtRatio</th>\n",
              "      <th>MonthlyIncome</th>\n",
              "      <th>NumberOfOpenCreditLinesAndLoans</th>\n",
              "      <th>NumberOfTimes90DaysLate</th>\n",
              "      <th>NumberRealEstateLoansOrLines</th>\n",
              "      <th>NumberOfTime60-89DaysPastDueNotWorse</th>\n",
              "      <th>NumberOfDependents</th>\n",
              "    </tr>\n",
              "  </thead>\n",
              "  <tbody>\n",
              "    <tr>\n",
              "      <th>1</th>\n",
              "      <td>NaN</td>\n",
              "      <td>0.885519</td>\n",
              "      <td>43</td>\n",
              "      <td>0</td>\n",
              "      <td>0.177513</td>\n",
              "      <td>5700.0</td>\n",
              "      <td>4</td>\n",
              "      <td>0</td>\n",
              "      <td>0</td>\n",
              "      <td>0</td>\n",
              "      <td>0.0</td>\n",
              "    </tr>\n",
              "    <tr>\n",
              "      <th>2</th>\n",
              "      <td>NaN</td>\n",
              "      <td>0.463295</td>\n",
              "      <td>57</td>\n",
              "      <td>0</td>\n",
              "      <td>0.527237</td>\n",
              "      <td>9141.0</td>\n",
              "      <td>15</td>\n",
              "      <td>0</td>\n",
              "      <td>4</td>\n",
              "      <td>0</td>\n",
              "      <td>2.0</td>\n",
              "    </tr>\n",
              "    <tr>\n",
              "      <th>3</th>\n",
              "      <td>NaN</td>\n",
              "      <td>0.043275</td>\n",
              "      <td>59</td>\n",
              "      <td>0</td>\n",
              "      <td>0.687648</td>\n",
              "      <td>5083.0</td>\n",
              "      <td>12</td>\n",
              "      <td>0</td>\n",
              "      <td>1</td>\n",
              "      <td>0</td>\n",
              "      <td>2.0</td>\n",
              "    </tr>\n",
              "    <tr>\n",
              "      <th>4</th>\n",
              "      <td>NaN</td>\n",
              "      <td>0.280308</td>\n",
              "      <td>38</td>\n",
              "      <td>1</td>\n",
              "      <td>0.925961</td>\n",
              "      <td>3200.0</td>\n",
              "      <td>7</td>\n",
              "      <td>0</td>\n",
              "      <td>2</td>\n",
              "      <td>0</td>\n",
              "      <td>0.0</td>\n",
              "    </tr>\n",
              "    <tr>\n",
              "      <th>5</th>\n",
              "      <td>NaN</td>\n",
              "      <td>1.000000</td>\n",
              "      <td>27</td>\n",
              "      <td>0</td>\n",
              "      <td>0.019917</td>\n",
              "      <td>3865.0</td>\n",
              "      <td>4</td>\n",
              "      <td>0</td>\n",
              "      <td>0</td>\n",
              "      <td>0</td>\n",
              "      <td>1.0</td>\n",
              "    </tr>\n",
              "    <tr>\n",
              "      <th>...</th>\n",
              "      <td>...</td>\n",
              "      <td>...</td>\n",
              "      <td>...</td>\n",
              "      <td>...</td>\n",
              "      <td>...</td>\n",
              "      <td>...</td>\n",
              "      <td>...</td>\n",
              "      <td>...</td>\n",
              "      <td>...</td>\n",
              "      <td>...</td>\n",
              "      <td>...</td>\n",
              "    </tr>\n",
              "    <tr>\n",
              "      <th>101499</th>\n",
              "      <td>NaN</td>\n",
              "      <td>0.282653</td>\n",
              "      <td>24</td>\n",
              "      <td>0</td>\n",
              "      <td>0.068522</td>\n",
              "      <td>1400.0</td>\n",
              "      <td>5</td>\n",
              "      <td>0</td>\n",
              "      <td>0</td>\n",
              "      <td>0</td>\n",
              "      <td>0.0</td>\n",
              "    </tr>\n",
              "    <tr>\n",
              "      <th>101500</th>\n",
              "      <td>NaN</td>\n",
              "      <td>0.922156</td>\n",
              "      <td>36</td>\n",
              "      <td>3</td>\n",
              "      <td>0.934217</td>\n",
              "      <td>7615.0</td>\n",
              "      <td>8</td>\n",
              "      <td>0</td>\n",
              "      <td>2</td>\n",
              "      <td>0</td>\n",
              "      <td>4.0</td>\n",
              "    </tr>\n",
              "    <tr>\n",
              "      <th>101501</th>\n",
              "      <td>NaN</td>\n",
              "      <td>0.081596</td>\n",
              "      <td>70</td>\n",
              "      <td>0</td>\n",
              "      <td>836.000000</td>\n",
              "      <td>NaN</td>\n",
              "      <td>3</td>\n",
              "      <td>0</td>\n",
              "      <td>0</td>\n",
              "      <td>0</td>\n",
              "      <td>NaN</td>\n",
              "    </tr>\n",
              "    <tr>\n",
              "      <th>101502</th>\n",
              "      <td>NaN</td>\n",
              "      <td>0.335457</td>\n",
              "      <td>56</td>\n",
              "      <td>0</td>\n",
              "      <td>3568.000000</td>\n",
              "      <td>NaN</td>\n",
              "      <td>8</td>\n",
              "      <td>0</td>\n",
              "      <td>2</td>\n",
              "      <td>1</td>\n",
              "      <td>3.0</td>\n",
              "    </tr>\n",
              "    <tr>\n",
              "      <th>101503</th>\n",
              "      <td>NaN</td>\n",
              "      <td>0.441842</td>\n",
              "      <td>29</td>\n",
              "      <td>0</td>\n",
              "      <td>0.198918</td>\n",
              "      <td>5916.0</td>\n",
              "      <td>12</td>\n",
              "      <td>0</td>\n",
              "      <td>0</td>\n",
              "      <td>0</td>\n",
              "      <td>0.0</td>\n",
              "    </tr>\n",
              "  </tbody>\n",
              "</table>\n",
              "<p>101503 rows × 11 columns</p>\n",
              "</div>"
            ],
            "text/plain": [
              "        SeriousDlqin2yrs  ...  NumberOfDependents\n",
              "1                    NaN  ...                 0.0\n",
              "2                    NaN  ...                 2.0\n",
              "3                    NaN  ...                 2.0\n",
              "4                    NaN  ...                 0.0\n",
              "5                    NaN  ...                 1.0\n",
              "...                  ...  ...                 ...\n",
              "101499               NaN  ...                 0.0\n",
              "101500               NaN  ...                 4.0\n",
              "101501               NaN  ...                 NaN\n",
              "101502               NaN  ...                 3.0\n",
              "101503               NaN  ...                 0.0\n",
              "\n",
              "[101503 rows x 11 columns]"
            ]
          },
          "metadata": {
            "tags": []
          },
          "execution_count": 42
        }
      ]
    },
    {
      "cell_type": "markdown",
      "metadata": {
        "id": "vfnxDhtp9Ii1",
        "colab_type": "text"
      },
      "source": [
        "### Preprocessing the test dataset"
      ]
    },
    {
      "cell_type": "code",
      "metadata": {
        "id": "1Q0pJtjGmAA6",
        "colab_type": "code",
        "colab": {}
      },
      "source": [
        "dependents_mode_test = ccs_test[\"NumberOfDependents\"].mode()[0] # impute with mode\n",
        "ccs_test[\"NumberOfDependents\"] = ccs_test[\"NumberOfDependents\"].fillna(dependents_mode_test)"
      ],
      "execution_count": 0,
      "outputs": []
    },
    {
      "cell_type": "code",
      "metadata": {
        "id": "86ihZpAsmJZB",
        "colab_type": "code",
        "colab": {}
      },
      "source": [
        "income_median_test = ccs_test[\"MonthlyIncome\"].median()\n",
        "ccs_test[\"MonthlyIncome\"] = ccs_test[\"MonthlyIncome\"].fillna(income_median_test)"
      ],
      "execution_count": 0,
      "outputs": []
    },
    {
      "cell_type": "markdown",
      "metadata": {
        "id": "Di_zYINh9Qua",
        "colab_type": "text"
      },
      "source": [
        "### Inserting Index for reference and prediction"
      ]
    },
    {
      "cell_type": "code",
      "metadata": {
        "id": "2vMazNt1zVZy",
        "colab_type": "code",
        "colab": {}
      },
      "source": [
        "ccs_test.insert(0, 'Index', ccs_test.index)"
      ],
      "execution_count": 0,
      "outputs": []
    },
    {
      "cell_type": "code",
      "metadata": {
        "id": "2fLws4AV2sYc",
        "colab_type": "code",
        "colab": {}
      },
      "source": [
        "#ccs_test = ccs_test.drop([\"id\"],axis=1)"
      ],
      "execution_count": 0,
      "outputs": []
    },
    {
      "cell_type": "markdown",
      "metadata": {
        "id": "DgicEACo9gVu",
        "colab_type": "text"
      },
      "source": [
        "### Predicting the probability that someone would face financial distress in next two years"
      ]
    },
    {
      "cell_type": "code",
      "metadata": {
        "id": "GelIOOX-mX2p",
        "colab_type": "code",
        "colab": {}
      },
      "source": [
        "test_X = ccs_test.drop([\"Index\", \"SeriousDlqin2yrs\"],axis=1)\n",
        "predict_prob = model.predict_proba(test_X)[:, -1]"
      ],
      "execution_count": 0,
      "outputs": []
    },
    {
      "cell_type": "markdown",
      "metadata": {
        "id": "WYLGBHAp9tBE",
        "colab_type": "text"
      },
      "source": [
        "### Creating a Dataframe for predicted results"
      ]
    },
    {
      "cell_type": "code",
      "metadata": {
        "id": "oYp7wblPm4cV",
        "colab_type": "code",
        "outputId": "0d247314-999a-40fd-c528-70c9cef2bd6b",
        "colab": {
          "base_uri": "https://localhost:8080/",
          "height": 252
        }
      },
      "source": [
        "result = pd.DataFrame({\"Id\": ccs_test[\"Index\"], \"Probability\": predict_prob})\n",
        "result[\"Id\"] = result[\"Id\"].astype(int)\n",
        "result[\"Probability\"] = result[\"Probability\"].astype(float)\n",
        "print(result)"
      ],
      "execution_count": 48,
      "outputs": [
        {
          "output_type": "stream",
          "text": [
            "            Id  Probability\n",
            "1            1     0.082890\n",
            "2            2     0.043629\n",
            "3            3     0.013492\n",
            "4            4     0.074971\n",
            "5            5     0.101335\n",
            "...        ...          ...\n",
            "101499  101499     0.029998\n",
            "101500  101500     0.317088\n",
            "101501  101501     0.006960\n",
            "101502  101502     0.062274\n",
            "101503  101503     0.047394\n",
            "\n",
            "[101503 rows x 2 columns]\n"
          ],
          "name": "stdout"
        }
      ]
    },
    {
      "cell_type": "markdown",
      "metadata": {
        "id": "qKC7SYcY90-F",
        "colab_type": "text"
      },
      "source": [
        "### Saving the result to a CSV file"
      ]
    },
    {
      "cell_type": "code",
      "metadata": {
        "id": "9MPoGJIV2RfR",
        "colab_type": "code",
        "colab": {}
      },
      "source": [
        "result.to_csv('final_result.csv')"
      ],
      "execution_count": 0,
      "outputs": []
    },
    {
      "cell_type": "markdown",
      "metadata": {
        "id": "JdL64gbcPi1V",
        "colab_type": "text"
      },
      "source": [
        "### Creating Dataframe for visualization"
      ]
    },
    {
      "cell_type": "markdown",
      "metadata": {
        "id": "xukjZBMa0R7j",
        "colab_type": "text"
      },
      "source": [
        "### Joining prediction dataframe with main dataframe"
      ]
    },
    {
      "cell_type": "code",
      "metadata": {
        "id": "2CmVtP_dOukF",
        "colab_type": "code",
        "colab": {}
      },
      "source": [
        "df_visualization = result.join(ccs_test.set_index('Index'), on='Id')"
      ],
      "execution_count": 0,
      "outputs": []
    },
    {
      "cell_type": "markdown",
      "metadata": {
        "id": "QmoYH3Vn0rFy",
        "colab_type": "text"
      },
      "source": [
        "### Visualizaing the data for better understanding and analysis"
      ]
    },
    {
      "cell_type": "markdown",
      "metadata": {
        "id": "JyV0Htpd-AIj",
        "colab_type": "text"
      },
      "source": [
        "### Probability based on age of a person"
      ]
    },
    {
      "cell_type": "code",
      "metadata": {
        "id": "b30oUsDKZ94w",
        "colab_type": "code",
        "colab": {
          "base_uri": "https://localhost:8080/",
          "height": 382
        },
        "outputId": "119d058b-bb3b-4d6b-9e72-3d7e30c132ee"
      },
      "source": [
        "sns.relplot(kind=\"line\", x=\"age\", y=\"Probability\", data=df_visualization)"
      ],
      "execution_count": 51,
      "outputs": [
        {
          "output_type": "execute_result",
          "data": {
            "text/plain": [
              "<seaborn.axisgrid.FacetGrid at 0x7f66ba9d5e10>"
            ]
          },
          "metadata": {
            "tags": []
          },
          "execution_count": 51
        },
        {
          "output_type": "display_data",
          "data": {
            "image/png": "[encoded data removed]",
            "text/plain": [
              "<Figure size 360x360 with 1 Axes>"
            ]
          },
          "metadata": {
            "tags": []
          }
        }
      ]
    },
    {
      "cell_type": "markdown",
      "metadata": {
        "id": "n5_x7Zsl-H2W",
        "colab_type": "text"
      },
      "source": [
        "### Probability based on number of Open Credit Lines and Loans"
      ]
    },
    {
      "cell_type": "code",
      "metadata": {
        "id": "_O6puBOjbl5h",
        "colab_type": "code",
        "colab": {
          "base_uri": "https://localhost:8080/",
          "height": 382
        },
        "outputId": "f670edc1-a182-4c79-9beb-e0bc0cf8beb5"
      },
      "source": [
        "sns.relplot(kind=\"line\", x=\"NumberOfOpenCreditLinesAndLoans\", y=\"Probability\", data=df_visualization)"
      ],
      "execution_count": 75,
      "outputs": [
        {
          "output_type": "execute_result",
          "data": {
            "text/plain": [
              "<seaborn.axisgrid.FacetGrid at 0x7f66ba14cc50>"
            ]
          },
          "metadata": {
            "tags": []
          },
          "execution_count": 75
        },
        {
          "output_type": "display_data",
          "data": {
            "image/png": "[encoded data removed]",
            "text/plain": [
              "<Figure size 360x360 with 1 Axes>"
            ]
          },
          "metadata": {
            "tags": []
          }
        }
      ]
    },
    {
      "cell_type": "markdown",
      "metadata": {
        "id": "9FjHMmve-PuJ",
        "colab_type": "text"
      },
      "source": [
        "### Probability based on Number of Real Estate Loans or Lines"
      ]
    },
    {
      "cell_type": "code",
      "metadata": {
        "id": "XXW1IwXYeDjJ",
        "colab_type": "code",
        "colab": {
          "base_uri": "https://localhost:8080/",
          "height": 627
        },
        "outputId": "fbd11b72-b965-4b53-94d0-b154efd9756b"
      },
      "source": [
        "fig, ax = plt.subplots(1,1, figsize=(18,10))\n",
        "sns.barplot(df_visualization.iloc[0:].NumberRealEstateLoansOrLines,\n",
        "            df_visualization.iloc[0:].Probability,\n",
        "            ax = ax, palette=\"vlag\")\n",
        "ax.set_ylabel(\"Probability\")\n",
        "ax.set_xlabel(\"NumberRealEstateLoansOrLines\")\n",
        "ax.set_title(\"Probability of being a defaulter with respect to Number of Real Estate Loans or Lines\");"
      ],
      "execution_count": 72,
      "outputs": [
        {
          "output_type": "display_data",
          "data": {
            "image/png": "[encoded data removed]",
            "text/plain": [
              "<Figure size 1296x720 with 1 Axes>"
            ]
          },
          "metadata": {
            "tags": []
          }
        }
      ]
    },
    {
      "cell_type": "markdown",
      "metadata": {
        "id": "zBp1-QIw-Xr3",
        "colab_type": "text"
      },
      "source": [
        "### Probability based on Number of Dependents"
      ]
    },
    {
      "cell_type": "code",
      "metadata": {
        "id": "oCu8Z9HhtMRp",
        "colab_type": "code",
        "colab": {
          "base_uri": "https://localhost:8080/",
          "height": 627
        },
        "outputId": "8dff60cd-868c-48a2-ace4-ac90c5a2002b"
      },
      "source": [
        "fig, ax = plt.subplots(1,1, figsize=(18,10))\n",
        "sns.barplot(df_visualization.iloc[0:].NumberOfDependents,\n",
        "            df_visualization.iloc[0:].Probability,\n",
        "            ax = ax, palette=\"rocket\")\n",
        "ax.set_ylabel(\"Probability\")\n",
        "ax.set_xlabel(\"NumberOfDependents\")\n",
        "ax.set_title(\"Probability of being a defaulter with respect to Number of Dependents\");"
      ],
      "execution_count": 63,
      "outputs": [
        {
          "output_type": "display_data",
          "data": {
            "image/png": "[encoded data removed]",
            "text/plain": [
              "<Figure size 1296x720 with 1 Axes>"
            ]
          },
          "metadata": {
            "tags": []
          }
        }
      ]
    }
  ]
}