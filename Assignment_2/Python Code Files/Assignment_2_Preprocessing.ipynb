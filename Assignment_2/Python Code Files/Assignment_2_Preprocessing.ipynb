{
  "nbformat": 4,
  "nbformat_minor": 0,
  "metadata": {
    "colab": {
      "name": "Assignment_2_Preprocessing.ipynb",
      "provenance": [],
      "collapsed_sections": []
    },
    "kernelspec": {
      "name": "python3",
      "display_name": "Python 3"
    }
  },
  "cells": [
    {
      "cell_type": "code",
      "metadata": {
        "id": "jfKnhTQLo7u4",
        "colab_type": "code",
        "colab": {}
      },
      "source": [
        "import os\n",
        "import io\n",
        "import bson\n",
        "import pymongo\n",
        "from tqdm import tqdm\n",
        "import matplotlib.pyplot as plt\n",
        "from skimage.io import imread\n",
        "import multiprocessing as mp\n",
        "from glob import iglob"
      ],
      "execution_count": null,
      "outputs": []
    },
    {
      "cell_type": "code",
      "metadata": {
        "id": "u2mxwxT6o7--",
        "colab_type": "code",
        "colab": {}
      },
      "source": [
        "#bson_file = 'train_example.bson'\n",
        "NCORE = 16\n",
        "max_images = 82\n",
        "\n",
        "input_dir = os.path.abspath(os.path.join(os.getcwd(), '../input'))\n",
        "base_dir = os.path.join(os.getcwd())\n",
        "#images_dir = os.path.join(base_dir, 'images')\n",
        "images_dir = \"/content/sample_data/images\"\n",
        "bson_file = \"/train_example.bson\"\n",
        "\n",
        "product_count = 0\n",
        "category_count = 0\n",
        "picture_count = 0"
      ],
      "execution_count": null,
      "outputs": []
    },
    {
      "cell_type": "code",
      "metadata": {
        "id": "Sv3iIBv9o8CB",
        "colab_type": "code",
        "colab": {}
      },
      "source": [
        "def process(q, iolock):\n",
        "    global product_count\n",
        "    global category_count\n",
        "    global picture_count\n",
        "    while True:\n",
        "        d = q.get()\n",
        "        if d is None:\n",
        "            break\n",
        "\n",
        "        product_count += 1\n",
        "        product_id = str(d['_id'])\n",
        "        category_id = str(d['category_id'])\n",
        "\n",
        "        category_dir = os.path.join(images_dir, category_id)\n",
        "        if not os.path.exists(category_dir):\n",
        "            category_count += 1\n",
        "            try:\n",
        "                os.makedirs(category_dir)\n",
        "            except:\n",
        "                pass\n",
        "\n",
        "        for e, pic in enumerate(d['imgs']):\n",
        "            picture_count += 1\n",
        "            picture = imread(io.BytesIO(pic['picture']))\n",
        "            picture_file = os.path.join(category_dir, product_id + '_' + str(e) + '.jpg')\n",
        "            if not os.path.isfile(picture_file):\n",
        "                plt.imsave(picture_file, picture)\n",
        "\n",
        "\n",
        "q = mp.Queue(maxsize=NCORE)\n",
        "iolock = mp.Lock()\n",
        "pool = mp.Pool(NCORE, initializer=process, initargs=(q, iolock))\n",
        "pool.close()"
      ],
      "execution_count": null,
      "outputs": []
    },
    {
      "cell_type": "code",
      "metadata": {
        "id": "vS9USptmpNEM",
        "colab_type": "code",
        "colab": {
          "base_uri": "https://localhost:8080/",
          "height": 119
        },
        "outputId": "1a8de49a-d7d0-4fa9-bfcf-b73726b174c0"
      },
      "source": [
        "data = bson.decode_file_iter(open(bson_file, 'rb'))\n",
        "\n",
        "for c, d in tqdm(enumerate(data)):\n",
        "    if (c + 1) > max_images:\n",
        "        break\n",
        "    q.put(d)  # blocks until q below its max size\n",
        "\n",
        "# tell workers we're done\n",
        "for _ in range(NCORE):\n",
        "    q.put(None)\n",
        "pool.close()\n",
        "pool.join()\n",
        "\n",
        "print('Images saved at %s' % images_dir)\n",
        "print('Products: \\t%d\\nCategories: \\t%d\\nPictures: \\t%d' % (product_count, category_count, picture_count))\n",
        "\n",
        "file = open(os.path.join(base_dir, 'retrained_labels.txt'), 'w')\n",
        "\n",
        "rootdir_glob = images_dir + '/**/*'\n",
        "folder_list = [f for f in iglob(rootdir_glob, recursive=True) if os.path.isdir(f)]\n",
        "for folder in folder_list:\n",
        "    category = folder.split('/')[-1]\n",
        "    file.write(category + '\\n')\n",
        "\n",
        "file.close()\n",
        "\n",
        "print('\"retrained_labels.txt\" saved at %s' % base_dir)"
      ],
      "execution_count": null,
      "outputs": [
        {
          "output_type": "stream",
          "text": [
            "82it [00:00, 115.74it/s]\n"
          ],
          "name": "stderr"
        },
        {
          "output_type": "stream",
          "text": [
            "Images saved at /content/sample_data/images\n",
            "Products: \t0\n",
            "Categories: \t0\n",
            "Pictures: \t0\n",
            "\"retrained_labels.txt\" saved at /content\n"
          ],
          "name": "stdout"
        }
      ]
    },
    {
      "cell_type": "code",
      "metadata": {
        "id": "F3OCcACcPdwy",
        "colab_type": "code",
        "colab": {}
      },
      "source": [
        "import shutil\n",
        "RootDir1 = r'/content/sample_data/images'\n",
        "TargetFolder = r'/content/sample_data/Test'\n",
        "for root, dirs, files in os.walk((os.path.normpath(RootDir1)), topdown=False):\n",
        "        for name in files:\n",
        "            if name.endswith('.jpg'):\n",
        "                SourceFolder = os.path.join(root,name)\n",
        "                shutil.copy2(SourceFolder, TargetFolder)"
      ],
      "execution_count": null,
      "outputs": []
    }
  ]
}